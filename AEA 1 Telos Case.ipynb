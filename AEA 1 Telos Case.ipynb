{
 "cells": [
  {
   "cell_type": "code",
   "execution_count": 1,
   "metadata": {
    "collapsed": false
   },
   "outputs": [],
   "source": [
    "# First lets clear all previous python imports and variables by resetting the python kernel.\n",
    "%reset -f\n",
    "\n",
    "#De nodige packages..\n",
    "import pandas as pd\n",
    "import matplotlib.pyplot as plt\n",
    "from selenium import webdriver\n",
    "import os\n",
    "import time\n",
    "from IPython.display import display, IFrame\n",
    "import folium\n",
    "\n",
    "#De nodige data: geo_path is hier de geojson van Boone, df de dataset van Dagevos\n",
    "geo_path = r'https://github.com/joostbouten/assignments/raw/master/Gemeentegrenzen_2016_zonder_water_simplified_wgs84.geojson'\n",
    "url = 'https://github.com/joostbouten/assignments/raw/master/datasetAEA.dta'\n",
    "df = pd.read_stata(url)\n",
    "\n",
    "%matplotlib inline"
   ]
  },
  {
   "cell_type": "code",
   "execution_count": 2,
   "metadata": {
    "collapsed": false
   },
   "outputs": [],
   "source": [
    "df = df[df['Year']==2017] #Ik gebruik alleen de meest recente data"
   ]
  },
  {
   "cell_type": "code",
   "execution_count": 3,
   "metadata": {
    "collapsed": false
   },
   "outputs": [],
   "source": [
    "#Meijerijstad is een nieuwe gemeente uit deze drie oude gemeentes, ik zorg hier dat 2017 data van meijerijstad op alle 3 polygons geplot kan worden.\n",
    "veghel = ['GM1948', 'Veghel',10.3851394057056,0.050411537,0.012248361,0,0.034707335,0.001930953,0.004052873,0.896648942,0,0,1948,'GM1948','Meierijstad',7.8,0,26.5,73.5,69.9,1.8,0.9,0.1,0.8,0.8,0.0,0.6,0.4,0.0,'',2017, 'GM1948', 'CR35','Noordoost-Noord-Brabant','PV30','Noord-Brabant',50.7,52.7,55.2,61.3,36.4,56.1,53.2,53.8,52.8,56.2,47.5,51.2,77.5,72.8,44.7,38.2,61.4,43.3,49.2,50.7,35.5,50.5,30.4,55,48.7,60.9,35.3,76.2,63.9,62.5,62.4,56.2,71.5,49,18.8,42.6,0,75.1,67,69.3,68.1,59.3,29.9,66.6,39.8,29.5,62.4,39.6,50.7,77.3,52.5,48.7,41.2,62,58,66,64.4,49.4,23.1,42.1,58.6,61.3,50.4,62.9,41.5,62.6,30,100,47.4,21.6,23.3,75.6,57.5,24,19.9,78.8,79.7,77.9,82.2,80.8,60.2,91.3,70.5,79.9,77.6,43.4,58,81.7,51.2,90.4,100,47.2,44,43.6,54.1,34.8,0,43.4,62.1,23.2,53.2,35.3,50.3,57.3,83.6,27.3,47.4,71.2,63.6,49.9,27.8,59.9,31.3,77,52.4,68.2,63.7,31.6,37.5,43.9,42.1,20.9,35.1,24.9,62.4,87.8,25,52.6,24,53.1,14.3,14.1]\n",
    "schijndel = ['GM1948', 'Schijndel',10.3851394057056,0.050411537,0.012248361,0,0.034707335,0.001930953,0.004052873,0.896648942,0,0,1948,'GM1948','Meierijstad',7.8,0,26.5,73.5,69.9,1.8,0.9,0.1,0.8,0.8,0.0,0.6,0.4,0.0,'',2017, 'GM1948', 'CR35','Noordoost-Noord-Brabant','PV30','Noord-Brabant',50.7,52.7,55.2,61.3,36.4,56.1,53.2,53.8,52.8,56.2,47.5,51.2,77.5,72.8,44.7,38.2,61.4,43.3,49.2,50.7,35.5,50.5,30.4,55,48.7,60.9,35.3,76.2,63.9,62.5,62.4,56.2,71.5,49,18.8,42.6,0,75.1,67,69.3,68.1,59.3,29.9,66.6,39.8,29.5,62.4,39.6,50.7,77.3,52.5,48.7,41.2,62,58,66,64.4,49.4,23.1,42.1,58.6,61.3,50.4,62.9,41.5,62.6,30,100,47.4,21.6,23.3,75.6,57.5,24,19.9,78.8,79.7,77.9,82.2,80.8,60.2,91.3,70.5,79.9,77.6,43.4,58,81.7,51.2,90.4,100,47.2,44,43.6,54.1,34.8,0,43.4,62.1,23.2,53.2,35.3,50.3,57.3,83.6,27.3,47.4,71.2,63.6,49.9,27.8,59.9,31.3,77,52.4,68.2,63.7,31.6,37.5,43.9,42.1,20.9,35.1,24.9,62.4,87.8,25,52.6,24,53.1,14.3,14.1]\n",
    "stoedenrode = ['GM1948', 'Sint-Oedenrode',10.3851394057056,0.050411537,0.012248361,0,0.034707335,0.001930953,0.004052873,0.896648942,0,0,1948,'GM1948','Meierijstad',7.8,0,26.5,73.5,69.9,1.8,0.9,0.1,0.8,0.8,0.0,0.6,0.4,0.0,'',2017, 'GM1948', 'CR35','Noordoost-Noord-Brabant','PV30','Noord-Brabant',50.7,52.7,55.2,61.3,36.4,56.1,53.2,53.8,52.8,56.2,47.5,51.2,77.5,72.8,44.7,38.2,61.4,43.3,49.2,50.7,35.5,50.5,30.4,55,48.7,60.9,35.3,76.2,63.9,62.5,62.4,56.2,71.5,49,18.8,42.6,0,75.1,67,69.3,68.1,59.3,29.9,66.6,39.8,29.5,62.4,39.6,50.7,77.3,52.5,48.7,41.2,62,58,66,64.4,49.4,23.1,42.1,58.6,61.3,50.4,62.9,41.5,62.6,30,100,47.4,21.6,23.3,75.6,57.5,24,19.9,78.8,79.7,77.9,82.2,80.8,60.2,91.3,70.5,79.9,77.6,43.4,58,81.7,51.2,90.4,100,47.2,44,43.6,54.1,34.8,0,43.4,62.1,23.2,53.2,35.3,50.3,57.3,83.6,27.3,47.4,71.2,63.6,49.9,27.8,59.9,31.3,77,52.4,68.2,63.7,31.6,37.5,43.9,42.1,20.9,35.1,24.9,62.4,87.8,25,52.6,24,53.1,14.3,14.1]"
   ]
  },
  {
   "cell_type": "code",
   "execution_count": 4,
   "metadata": {
    "collapsed": false
   },
   "outputs": [],
   "source": [
    "columns = list(df.columns)\n",
    "df_Meierij = pd.DataFrame([veghel], columns=columns).append(pd.DataFrame([schijndel], columns=columns)).append(pd.DataFrame([stoedenrode], columns=columns)) "
   ]
  },
  {
   "cell_type": "code",
   "execution_count": 5,
   "metadata": {
    "collapsed": true
   },
   "outputs": [],
   "source": [
    "df = df.append(df_Meierij)"
   ]
  },
  {
   "cell_type": "code",
   "execution_count": 6,
   "metadata": {
    "collapsed": false
   },
   "outputs": [],
   "source": [
    "#Hier zorg ik dat namen in de geojson overeen komen met namen in de dataset\n",
    "df.Municipalityname = df.Municipalityname.replace('S\\xc3\\x83\\xc2\\xbadwest-Frysl\\xc3\\x83\\xc2\\xa2n','Sudwest Fryslan')\n",
    "df.Municipalityname = df.Municipalityname.replace('Bergen (L.)','Bergen (L)')\n",
    "df.Municipalityname = df.Municipalityname.replace('Bergen (NH.)','Bergen (NH)')\n",
    "df['municipality']=df['Municipalityname']\n",
    "df['NAP'] =  df['AveragegroundlevelmNAP'] >= 0"
   ]
  },
  {
   "cell_type": "code",
   "execution_count": 7,
   "metadata": {
    "collapsed": false
   },
   "outputs": [],
   "source": [
    "#Hier definieer ik een functie die de kolomnaam en legendanaam als input nemen voor de plot\n",
    "\n",
    "fn='map.html'\n",
    "\n",
    "def NLMAP(colname,legendname):\n",
    "        ref_map = folium.Map(\n",
    "        location=[52.139177, 5.327108], # This will center the view on the world map where the Netherlands is located\n",
    "        tiles='Mapbox Bright',          # This creates a base map and in this case its the Mapbox Bright basemap\n",
    "        zoom_start=8, max_zoom=8)                   # This will zoom in on the center of view to get the Netherlands in full frame\n",
    "        \n",
    "        ref_map.choropleth(\n",
    "        # This is the path to the geojson file that contains all the municipality shapes and locations\n",
    "            geo_data=geo_path,\n",
    "        # We will use the p_results dataframe for the choropleth mapping\n",
    "            data=df,\n",
    "        # municipality will be used for the mapping key and expenditure for its value\n",
    "            columns=['municipality', colname],\n",
    "        # Use GM_NAAM (short for municipality name) as keys for colormapping\n",
    "            key_on='feature.properties.GM_NAAM',\n",
    "        # We are going to use a color map from yellow to green\n",
    "            fill_color='YlOrRd',\n",
    "        # This gives municipality shapes some opacity so that we can still see the background\n",
    "            fill_opacity=0.7,\n",
    "        # This gives the lines around the municipality shapes some opacity so that they don't stand out too much\n",
    "            line_opacity=0.2,\n",
    "        # The legend\n",
    "            legend_name=legendname)\n",
    "        \n",
    "        ref_map.save(fn)              # This will save the map in a HTML format\n",
    "        display(IFrame(fn, 850,850)) # This displays the map in an Iframe\n"
   ]
  },
  {
   "cell_type": "code",
   "execution_count": 8,
   "metadata": {
    "collapsed": false
   },
   "outputs": [
    {
     "data": {
      "text/html": [
       "\n",
       "        <iframe\n",
       "            width=\"850\"\n",
       "            height=\"850\"\n",
       "            src=\"map.html\"\n",
       "            frameborder=\"0\"\n",
       "            allowfullscreen\n",
       "        ></iframe>\n",
       "        "
      ],
      "text/plain": [
       "<IPython.lib.display.IFrame at 0x115b5e310>"
      ]
     },
     "metadata": {},
     "output_type": "display_data"
    }
   ],
   "source": [
    "#Een voorbeeld van wat de functie doet:\n",
    "NLMAP('Floods','Flood indicator') #Tussen de haakjes kan elke kolomnaam & legendanaam ingevuld worden"
   ]
  },
  {
   "cell_type": "code",
   "execution_count": 9,
   "metadata": {
    "collapsed": false
   },
   "outputs": [],
   "source": [
    "#Dit zorgt ervoor dat de plot geopend wordt op Firefox en dat er een screenshot gemaakt wordt.\n",
    "#Hiervoor dient wel een webdriver voor geinstalleerd te zijn.\n",
    "#De screenshot wordt in de working directory opgeslagen als 'map.png'\n",
    "\n",
    "tmpurl='file://{path}/{mapfile}'.format(path=os.getcwd(),mapfile=fn)\n",
    "#Open a browser window...\n",
    "browser = webdriver.Firefox()\n",
    "browser.set_window_size(750, 1850)\n",
    "#..that displays the map...\n",
    "browser.get(tmpurl)\n",
    "#Give the map tiles some time to load\n",
    "time.sleep(5)\n",
    "#Grab the screenshot\n",
    "browser.save_screenshot('map.png')\n",
    "#Close the browser\n",
    "browser.quit()"
   ]
  }
 ],
 "metadata": {
  "kernelspec": {
   "display_name": "Python 2",
   "language": "python",
   "name": "python2"
  },
  "language_info": {
   "codemirror_mode": {
    "name": "ipython",
    "version": 2
   },
   "file_extension": ".py",
   "mimetype": "text/x-python",
   "name": "python",
   "nbconvert_exporter": "python",
   "pygments_lexer": "ipython2",
   "version": "2.7.13"
  }
 },
 "nbformat": 4,
 "nbformat_minor": 2
}
