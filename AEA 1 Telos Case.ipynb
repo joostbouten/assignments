{
 "cells": [
  {
   "cell_type": "code",
   "execution_count": 17,
   "metadata": {
    "collapsed": false
   },
   "outputs": [],
   "source": [
    "# First lets clear all previous python imports and variables by resetting the python kernel.\n",
    "%reset -f\n",
    "\n",
    "\n",
    "import pandas as pd\n",
    "\n",
    "df = pd.read_stata('/Users/Joost/Downloads/datasetAEA.dta')\n",
    "\n",
    "%matplotlib inline"
   ]
  },
  {
   "cell_type": "code",
   "execution_count": 18,
   "metadata": {
    "collapsed": false
   },
   "outputs": [],
   "source": [
    "df = df[df['Year']==2017]"
   ]
  },
  {
   "cell_type": "code",
   "execution_count": 23,
   "metadata": {
    "collapsed": false
   },
   "outputs": [],
   "source": [
    "df['municipality']=df['Municipalityname']"
   ]
  },
  {
   "cell_type": "code",
   "execution_count": 38,
   "metadata": {
    "collapsed": true
   },
   "outputs": [],
   "source": [
    "df['NAP'] =  df['AveragegroundlevelmNAP'] >= 0"
   ]
  },
  {
   "cell_type": "code",
   "execution_count": 63,
   "metadata": {
    "collapsed": false
   },
   "outputs": [],
   "source": [
    "from IPython.display import display, IFrame\n",
    "import folium\n",
    "\n",
    "\n",
    "def NLMAP(colname):\n",
    "    geo_path = r'Gemeentegrenzen_2016_zonder_water_simplified_wgs84.geojson'\n",
    "    ref_map = folium.Map(\n",
    "        location=[52.139177, 5.327108], # This will center the view on the world map where the Netherlands is located\n",
    "        tiles='Mapbox Bright',          # This creates a base map and in this case its the Mapbox Bright basemap\n",
    "        zoom_start=8)                   # This will zoom in on the center of view to get the Netherlands in full frame\n",
    "\n",
    "    ref_map.choropleth(geo_data=geo_path\n",
    "        # This is the path to the geojson file that contains all the municipality shapes and locations\n",
    "        ,\n",
    "        # We will use the p_results dataframe for the choropleth mapping\n",
    "        data=df,\n",
    "        # municipality will be used for the mapping key and expenditure for its value\n",
    "        columns=['municipality', colname],\n",
    "        # Use GM_NAAM (short for municipality name) as keys for colormapping\n",
    "        key_on='feature.properties.GM_NAAM',\n",
    "        # We are going to use a color map from yellow to green\n",
    "        fill_color='YlGn',\n",
    "        # This gives municipality shapes some opacity so that we can still see the background\n",
    "        fill_opacity=0.7,\n",
    "        # This gives the lines around the municipality shapes some opacity so that they don't stand out too much\n",
    "        line_opacity=0.2,\n",
    "        # The legend\n",
    "        legend_name='Average Groundlevel')\n",
    "\n",
    "    ref_map.save('avggroundlevel.html')              # This will save the map in a HTML format\n",
    "\n",
    "    display(IFrame('avggroundlevel.html', 850,850)) # This displays the map in an Iframe\n"
   ]
  },
  {
   "cell_type": "code",
   "execution_count": 66,
   "metadata": {
    "collapsed": false
   },
   "outputs": [
    {
     "data": {
      "text/html": [
       "\n",
       "        <iframe\n",
       "            width=\"850\"\n",
       "            height=\"850\"\n",
       "            src=\"avggroundlevel.html\"\n",
       "            frameborder=\"0\"\n",
       "            allowfullscreen\n",
       "        ></iframe>\n",
       "        "
      ],
      "text/plain": [
       "<IPython.lib.display.IFrame at 0x11362f3d0>"
      ]
     },
     "metadata": {},
     "output_type": "display_data"
    }
   ],
   "source": [
    "NLMAP('Jewish') #Tussen de haakjes kan elke columnname ingevuld worden"
   ]
  },
  {
   "cell_type": "code",
   "execution_count": null,
   "metadata": {
    "collapsed": true
   },
   "outputs": [],
   "source": []
  }
 ],
 "metadata": {
  "kernelspec": {
   "display_name": "Python 2",
   "language": "python",
   "name": "python2"
  },
  "language_info": {
   "codemirror_mode": {
    "name": "ipython",
    "version": 2
   },
   "file_extension": ".py",
   "mimetype": "text/x-python",
   "name": "python",
   "nbconvert_exporter": "python",
   "pygments_lexer": "ipython2",
   "version": "2.7.13"
  }
 },
 "nbformat": 4,
 "nbformat_minor": 2
}
