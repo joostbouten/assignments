{
 "cells": [
  {
   "cell_type": "code",
   "execution_count": 1,
   "metadata": {
    "collapsed": false
   },
   "outputs": [],
   "source": [
    "# First lets clear all previous python imports and variables by resetting the python kernel.\n",
    "%reset -f\n",
    "\n",
    "\n",
    "import pandas as pd\n",
    "import matplotlib.pyplot as plt\n",
    "df = pd.read_stata('datasetAEA.dta')\n",
    "\n",
    "%matplotlib inline"
   ]
  },
  {
   "cell_type": "code",
   "execution_count": 2,
   "metadata": {
    "collapsed": false
   },
   "outputs": [],
   "source": [
    "df = df[df['Year']==2017]"
   ]
  },
  {
   "cell_type": "code",
   "execution_count": 3,
   "metadata": {
    "collapsed": false
   },
   "outputs": [],
   "source": [
    "df.Municipalityname.iloc[280] = 'Sudwest Fryslan'"
   ]
  },
  {
   "cell_type": "code",
   "execution_count": 4,
   "metadata": {
    "collapsed": false
   },
   "outputs": [
    {
     "name": "stderr",
     "output_type": "stream",
     "text": [
      "/Users/Joost/anaconda/lib/python2.7/site-packages/pandas/core/indexing.py:141: SettingWithCopyWarning: \n",
      "A value is trying to be set on a copy of a slice from a DataFrame\n",
      "\n",
      "See the caveats in the documentation: http://pandas.pydata.org/pandas-docs/stable/indexing.html#indexing-view-versus-copy\n",
      "  self._setitem_with_indexer(indexer, value)\n"
     ]
    }
   ],
   "source": [
    "df.Municipalityname.iloc[32] = 'Bergen (L)'"
   ]
  },
  {
   "cell_type": "code",
   "execution_count": 5,
   "metadata": {
    "collapsed": false
   },
   "outputs": [],
   "source": [
    "df.Municipalityname.iloc[33] = 'Bergen (NH)'"
   ]
  },
  {
   "cell_type": "code",
   "execution_count": 6,
   "metadata": {
    "collapsed": false
   },
   "outputs": [],
   "source": [
    "df['municipality']=df['Municipalityname']"
   ]
  },
  {
   "cell_type": "code",
   "execution_count": 7,
   "metadata": {
    "collapsed": true
   },
   "outputs": [],
   "source": [
    "df['NAP'] =  df['AveragegroundlevelmNAP'] >= 0"
   ]
  },
  {
   "cell_type": "code",
   "execution_count": 8,
   "metadata": {
    "collapsed": false
   },
   "outputs": [],
   "source": [
    "cols = ['municipality','NAP']\n",
    "df_old = pd.DataFrame([['Veghel',1],['Schijndel',1],['Sint-Oedenrode',1]], columns=cols)"
   ]
  },
  {
   "cell_type": "code",
   "execution_count": 13,
   "metadata": {
    "collapsed": false
   },
   "outputs": [],
   "source": [
    "df = df.append(df_old)"
   ]
  },
  {
   "cell_type": "code",
   "execution_count": 24,
   "metadata": {
    "collapsed": false
   },
   "outputs": [],
   "source": [
    "from IPython.display import display, IFrame\n",
    "import folium\n",
    "\n",
    "fn='avggroundlevel.html'\n",
    "\n",
    "def NLMAP(colname):\n",
    "    geo_path = r'Gemeentegrenzen_2016_zonder_water_simplified_wgs84.geojson'\n",
    "    ref_map = folium.Map(\n",
    "        location=[52.139177, 5.327108], # This will center the view on the world map where the Netherlands is located\n",
    "        tiles='Mapbox Bright',          # This creates a base map and in this case its the Mapbox Bright basemap\n",
    "        zoom_start=8)                   # This will zoom in on the center of view to get the Netherlands in full frame\n",
    "\n",
    "    ref_map.choropleth(geo_data=geo_path\n",
    "        # This is the path to the geojson file that contains all the municipality shapes and locations\n",
    "        ,\n",
    "        # We will use the p_results dataframe for the choropleth mapping\n",
    "        data=df,\n",
    "        # municipality will be used for the mapping key and expenditure for its value\n",
    "        columns=['municipality', colname],\n",
    "        # Use GM_NAAM (short for municipality name) as keys for colormapping\n",
    "        key_on='feature.properties.GM_NAAM',\n",
    "        # We are going to use a color map from yellow to green\n",
    "        fill_color='YlGn',\n",
    "        # This gives municipality shapes some opacity so that we can still see the background\n",
    "        fill_opacity=0.7,\n",
    "        # This gives the lines around the municipality shapes some opacity so that they don't stand out too much\n",
    "        line_opacity=0.2,\n",
    "        # The legend\n",
    "        legend_name='Above/Below NAP')\n",
    "\n",
    "    ref_map.save(fn)              # This will save the map in a HTML format\n",
    "\n",
    "    display(IFrame(fn, 850,850)) # This displays the map in an Iframe\n"
   ]
  },
  {
   "cell_type": "code",
   "execution_count": 25,
   "metadata": {
    "collapsed": false
   },
   "outputs": [
    {
     "data": {
      "text/html": [
       "\n",
       "        <iframe\n",
       "            width=\"850\"\n",
       "            height=\"850\"\n",
       "            src=\"avggroundlevel.html\"\n",
       "            frameborder=\"0\"\n",
       "            allowfullscreen\n",
       "        ></iframe>\n",
       "        "
      ],
      "text/plain": [
       "<IPython.lib.display.IFrame at 0x119536e10>"
      ]
     },
     "metadata": {},
     "output_type": "display_data"
    }
   ],
   "source": [
    "NLMAP('NAP') #Tussen de haakjes kan elke columnname ingevuld worden"
   ]
  },
  {
   "cell_type": "code",
   "execution_count": 26,
   "metadata": {
    "collapsed": false
   },
   "outputs": [],
   "source": [
    "from selenium import webdriver\n",
    "import os\n",
    "import time\n",
    "\n",
    "tmpurl='file://{path}/{mapfile}'.format(path=os.getcwd(),mapfile=fn)\n",
    "#Open a browser window...\n",
    "browser = webdriver.Firefox()\n",
    "browser.set_window_size(1080, 1080)\n",
    "#..that displays the map...\n",
    "browser.get(tmpurl)\n",
    "#Give the map tiles some time to load\n",
    "time.sleep(5)\n",
    "#Grab the screenshot\n",
    "browser.save_screenshot('map.png')\n",
    "#Close the browser\n",
    "browser.quit()"
   ]
  },
  {
   "cell_type": "code",
   "execution_count": null,
   "metadata": {
    "collapsed": true
   },
   "outputs": [],
   "source": []
  }
 ],
 "metadata": {
  "kernelspec": {
   "display_name": "Python 2",
   "language": "python",
   "name": "python2"
  },
  "language_info": {
   "codemirror_mode": {
    "name": "ipython",
    "version": 2
   },
   "file_extension": ".py",
   "mimetype": "text/x-python",
   "name": "python",
   "nbconvert_exporter": "python",
   "pygments_lexer": "ipython2",
   "version": "2.7.13"
  }
 },
 "nbformat": 4,
 "nbformat_minor": 2
}
