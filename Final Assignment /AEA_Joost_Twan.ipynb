{
 "cells": [
  {
   "cell_type": "markdown",
   "metadata": {},
   "source": [
    "# Applied Economic Analysis: Python Assignment\n",
    "\n",
    "|Name|ANR|\n",
    "|----|-------|\n",
    "|Joost Bouten|132978|\n",
    "|Twan Vissers|495770|"
   ]
  },
  {
   "cell_type": "markdown",
   "metadata": {},
   "source": [
    "# Exploring the world of cryptocurrencies"
   ]
  },
  {
   "cell_type": "markdown",
   "metadata": {},
   "source": [
    "## Questions\n",
    "\n",
    "- Out of the ten most valuable cryptocurrencies, which would be the best investment according to the [Sharpe ratio](https://web.stanford.edu/~wfsharpe/art/sr/sr.htm)? \n",
    "- Within the market for cryptocurrencies, what is the relation between average returns and volatility of prices?\n",
    "- What would a machine learning algorithm predict for the price of a cryptocurrency, given that it only bases its prediction on historical price data? "
   ]
  },
  {
   "cell_type": "markdown",
   "metadata": {},
   "source": [
    "### Motivation\n",
    "\n",
    "Cryptocurrencies are a hot topic. Since the hype around Bitcoin started, many entrepreneurs have taken a shot at developing their own coin or other product based on the blockchain technology. \n",
    "\n",
    "Being somewhat skeptical about the underlying value of cryptocurrencies, we aim to demonstrate effect of the incredible volatility that this market faces. By analyzing historical price data we hope to gain further insight in this market, as it still seems fuzzy to many people. "
   ]
  },
  {
   "cell_type": "markdown",
   "metadata": {},
   "source": [
    "### Method\n",
    "\n",
    "1. We will start of by importing the data, and performing some graphical as well as numerical exploratory data analysis. \n",
    "2. Secondly, we will go on to some investment analysis, where we try to distinguish the best investment pick out of the three most valueable cryptocurrencies using the Sharpe ratio as our metric and the S&P 500 as our benchmark. \n",
    "3. Thirdly, we like to get insight into the relation between volatility and return within the cryptocurrency market by plotting a regression line through datapoints for hundreds of cryptocurrencies. We will try to provide further insight into these datapoints by making an interactive plot using the Bokeh package. \n",
    "4. Lastly, we will naively try to estimate future cryptocurrency prices using historical price data as an input to a machine learning algorithm. We will construct a function where the symbol of a cryptocurrency along with a given number of days can be used as an input to plot the prediction of the algorithm next to the historical pricing data."
   ]
  },
  {
   "cell_type": "markdown",
   "metadata": {},
   "source": [
    "### Answer\n",
    "\n",
    "- According to the Sharpe ratio, the best pick out of the top three cryptocurrencies seems to be Ethereum. \n",
    "- The relation between average returns and volatility is positive, this can clearly be concluded from the [graph]().\n",
    "- We find that the prediction that is made by the algorithm may be as good as random. However, we do find some interesting results and the graphs give us some clear insights into the volatility of the blockchain currency market.  "
   ]
  },
  {
   "cell_type": "markdown",
   "metadata": {},
   "source": [
    "## Assumptions and limitations\n",
    "\n",
    "Our benchmark for calculating the Sharpe ratio allows us only to compare against closing prices in normal weekdays, therefor we have decided to drop price data for days in which the US stock markets are closed for the sake of simplicity.\n",
    "\n",
    "We evaluate the investment decision problem using 2017 daily closing rates. These data are likely not at all a good representation of prices in future periods. The market of cryptocurrencies is subject to great debate and speculation as their true value is still very much unclear.\n",
    "\n",
    "The machine learning algorithm bases its prediction merely on historical price data, it therefore shows results that are very likely not a good representation of reality. "
   ]
  },
  {
   "cell_type": "markdown",
   "metadata": {
    "collapsed": true
   },
   "source": [
    "## Importing libraries and data"
   ]
  },
  {
   "cell_type": "code",
   "execution_count": 1,
   "metadata": {
    "collapsed": false
   },
   "outputs": [],
   "source": [
    "# Importing the libraries\n",
    "import numpy as np\n",
    "import matplotlib.pyplot as plt\n",
    "import pandas as pd\n",
    "import seaborn as sns\n",
    "from pandas_datareader.data import DataReader \n",
    "from datetime import date\n",
    "from matplotlib.ticker import FuncFormatter\n",
    "from bokeh.plotting import figure, ColumnDataSource\n",
    "from bokeh.io import output_file, show, output_notebook\n",
    "from bokeh.models import HoverTool\n",
    "from sklearn.preprocessing import scale\n",
    "from sklearn.model_selection import train_test_split\n",
    "from sklearn.linear_model import LinearRegression\n",
    "from datetime import datetime, timedelta\n",
    "\n",
    "# Hiding annoying warnings\n",
    "import warnings\n",
    "warnings.filterwarnings('ignore')\n",
    "\n",
    "# Setting the plotting style\n",
    "%matplotlib inline\n",
    "plt.style.use('seaborn')\n",
    "\n",
    "# Importing the data\n",
    "df = pd.read_json(\"https://api.coinmarketcap.com/v1/ticker/?limit=0\")"
   ]
  },
  {
   "cell_type": "markdown",
   "metadata": {},
   "source": [
    "## Data\n",
    "\n",
    "The data that we use come from the CoinMarketCap API. \n",
    "\n",
    "The data consists of price and circulation data of many cryptocurrencies. We have loaded this data into a dataframe, from which we can nicely display the first few rows of data."
   ]
  },
  {
   "cell_type": "code",
   "execution_count": 138,
   "metadata": {
    "collapsed": false
   },
   "outputs": [
    {
     "name": "stdout",
     "output_type": "stream",
     "text": [
      "We have 1469 rows and 15 columns in this DataFrame\n"
     ]
    },
    {
     "data": {
      "text/html": [
       "<div>\n",
       "<style scoped>\n",
       "    .dataframe tbody tr th:only-of-type {\n",
       "        vertical-align: middle;\n",
       "    }\n",
       "\n",
       "    .dataframe tbody tr th {\n",
       "        vertical-align: top;\n",
       "    }\n",
       "\n",
       "    .dataframe thead th {\n",
       "        text-align: right;\n",
       "    }\n",
       "</style>\n",
       "<table border=\"1\" class=\"dataframe\">\n",
       "  <thead>\n",
       "    <tr style=\"text-align: right;\">\n",
       "      <th></th>\n",
       "      <th>24h_volume_usd</th>\n",
       "      <th>available_supply</th>\n",
       "      <th>id</th>\n",
       "      <th>last_updated</th>\n",
       "      <th>market_cap_usd</th>\n",
       "      <th>max_supply</th>\n",
       "      <th>name</th>\n",
       "      <th>percent_change_1h</th>\n",
       "      <th>percent_change_24h</th>\n",
       "      <th>percent_change_7d</th>\n",
       "      <th>price_btc</th>\n",
       "      <th>price_usd</th>\n",
       "      <th>rank</th>\n",
       "      <th>symbol</th>\n",
       "      <th>total_supply</th>\n",
       "    </tr>\n",
       "  </thead>\n",
       "  <tbody>\n",
       "    <tr>\n",
       "      <th>0</th>\n",
       "      <td>1.191000e+10</td>\n",
       "      <td>1.681468e+07</td>\n",
       "      <td>bitcoin</td>\n",
       "      <td>1.516454e+09</td>\n",
       "      <td>2.127443e+11</td>\n",
       "      <td>2.100000e+07</td>\n",
       "      <td>Bitcoin</td>\n",
       "      <td>0.96</td>\n",
       "      <td>6.47</td>\n",
       "      <td>-12.32</td>\n",
       "      <td>1.000000</td>\n",
       "      <td>12652.300000</td>\n",
       "      <td>1</td>\n",
       "      <td>BTC</td>\n",
       "      <td>1.681468e+07</td>\n",
       "    </tr>\n",
       "    <tr>\n",
       "      <th>1</th>\n",
       "      <td>4.132360e+09</td>\n",
       "      <td>9.709893e+07</td>\n",
       "      <td>ethereum</td>\n",
       "      <td>1.516454e+09</td>\n",
       "      <td>1.094101e+11</td>\n",
       "      <td>NaN</td>\n",
       "      <td>Ethereum</td>\n",
       "      <td>1.26</td>\n",
       "      <td>4.11</td>\n",
       "      <td>-17.40</td>\n",
       "      <td>0.089901</td>\n",
       "      <td>1126.790000</td>\n",
       "      <td>2</td>\n",
       "      <td>ETH</td>\n",
       "      <td>9.709893e+07</td>\n",
       "    </tr>\n",
       "    <tr>\n",
       "      <th>2</th>\n",
       "      <td>2.862920e+09</td>\n",
       "      <td>3.873914e+10</td>\n",
       "      <td>ripple</td>\n",
       "      <td>1.516455e+09</td>\n",
       "      <td>6.046328e+10</td>\n",
       "      <td>1.000000e+11</td>\n",
       "      <td>Ripple</td>\n",
       "      <td>0.60</td>\n",
       "      <td>-6.62</td>\n",
       "      <td>-23.73</td>\n",
       "      <td>0.000124</td>\n",
       "      <td>1.560780</td>\n",
       "      <td>3</td>\n",
       "      <td>XRP</td>\n",
       "      <td>9.999309e+10</td>\n",
       "    </tr>\n",
       "    <tr>\n",
       "      <th>3</th>\n",
       "      <td>8.072540e+08</td>\n",
       "      <td>1.692194e+07</td>\n",
       "      <td>bitcoin-cash</td>\n",
       "      <td>1.516454e+09</td>\n",
       "      <td>3.193508e+10</td>\n",
       "      <td>2.100000e+07</td>\n",
       "      <td>Bitcoin Cash</td>\n",
       "      <td>0.57</td>\n",
       "      <td>2.21</td>\n",
       "      <td>-30.03</td>\n",
       "      <td>0.150571</td>\n",
       "      <td>1887.200000</td>\n",
       "      <td>4</td>\n",
       "      <td>BCH</td>\n",
       "      <td>1.692194e+07</td>\n",
       "    </tr>\n",
       "    <tr>\n",
       "      <th>4</th>\n",
       "      <td>8.847130e+08</td>\n",
       "      <td>2.592707e+10</td>\n",
       "      <td>cardano</td>\n",
       "      <td>1.516454e+09</td>\n",
       "      <td>1.806689e+10</td>\n",
       "      <td>4.500000e+10</td>\n",
       "      <td>Cardano</td>\n",
       "      <td>1.82</td>\n",
       "      <td>3.26</td>\n",
       "      <td>-21.69</td>\n",
       "      <td>0.000056</td>\n",
       "      <td>0.696835</td>\n",
       "      <td>5</td>\n",
       "      <td>ADA</td>\n",
       "      <td>3.111248e+10</td>\n",
       "    </tr>\n",
       "  </tbody>\n",
       "</table>\n",
       "</div>"
      ],
      "text/plain": [
       "   24h_volume_usd  available_supply            id  last_updated  \\\n",
       "0    1.191000e+10      1.681468e+07       bitcoin  1.516454e+09   \n",
       "1    4.132360e+09      9.709893e+07      ethereum  1.516454e+09   \n",
       "2    2.862920e+09      3.873914e+10        ripple  1.516455e+09   \n",
       "3    8.072540e+08      1.692194e+07  bitcoin-cash  1.516454e+09   \n",
       "4    8.847130e+08      2.592707e+10       cardano  1.516454e+09   \n",
       "\n",
       "   market_cap_usd    max_supply          name  percent_change_1h  \\\n",
       "0    2.127443e+11  2.100000e+07       Bitcoin               0.96   \n",
       "1    1.094101e+11           NaN      Ethereum               1.26   \n",
       "2    6.046328e+10  1.000000e+11        Ripple               0.60   \n",
       "3    3.193508e+10  2.100000e+07  Bitcoin Cash               0.57   \n",
       "4    1.806689e+10  4.500000e+10       Cardano               1.82   \n",
       "\n",
       "   percent_change_24h  percent_change_7d  price_btc     price_usd  rank  \\\n",
       "0                6.47             -12.32   1.000000  12652.300000     1   \n",
       "1                4.11             -17.40   0.089901   1126.790000     2   \n",
       "2               -6.62             -23.73   0.000124      1.560780     3   \n",
       "3                2.21             -30.03   0.150571   1887.200000     4   \n",
       "4                3.26             -21.69   0.000056      0.696835     5   \n",
       "\n",
       "  symbol  total_supply  \n",
       "0    BTC  1.681468e+07  \n",
       "1    ETH  9.709893e+07  \n",
       "2    XRP  9.999309e+10  \n",
       "3    BCH  1.692194e+07  \n",
       "4    ADA  3.111248e+10  "
      ]
     },
     "execution_count": 138,
     "metadata": {},
     "output_type": "execute_result"
    }
   ],
   "source": [
    "# Data inspection\n",
    "print('We have',df.shape[0],'rows and',df.shape[1],'columns in this DataFrame')\n",
    "df.head(5)"
   ]
  },
  {
   "cell_type": "markdown",
   "metadata": {},
   "source": [
    "We can see that the data consists of 1469 rows and 15 columns, we do not need much of this data. Let us select some of this data such that we can nicely show some characteristics of the data."
   ]
  },
  {
   "cell_type": "code",
   "execution_count": 139,
   "metadata": {
    "collapsed": false
   },
   "outputs": [],
   "source": [
    "# Selecting the relevant columns\n",
    "market_cap = df[['name','market_cap_usd']]\n",
    "\n",
    "# Dropping currencies without market capitalization\n",
    "market_cap = market_cap.dropna()\n",
    "market_cap = market_cap.query('market_cap_usd > 0')\n",
    "\n",
    "# Setting the index\n",
    "market_cap.set_index('name', inplace=True)"
   ]
  },
  {
   "cell_type": "code",
   "execution_count": 140,
   "metadata": {
    "collapsed": false
   },
   "outputs": [
    {
     "data": {
      "text/html": [
       "<div>\n",
       "<style scoped>\n",
       "    .dataframe tbody tr th:only-of-type {\n",
       "        vertical-align: middle;\n",
       "    }\n",
       "\n",
       "    .dataframe tbody tr th {\n",
       "        vertical-align: top;\n",
       "    }\n",
       "\n",
       "    .dataframe thead th {\n",
       "        text-align: right;\n",
       "    }\n",
       "</style>\n",
       "<table border=\"1\" class=\"dataframe\">\n",
       "  <thead>\n",
       "    <tr style=\"text-align: right;\">\n",
       "      <th></th>\n",
       "      <th>market_cap_usd</th>\n",
       "    </tr>\n",
       "    <tr>\n",
       "      <th>name</th>\n",
       "      <th></th>\n",
       "    </tr>\n",
       "  </thead>\n",
       "  <tbody>\n",
       "    <tr>\n",
       "      <th>Bitcoin</th>\n",
       "      <td>2.127443e+11</td>\n",
       "    </tr>\n",
       "    <tr>\n",
       "      <th>Ethereum</th>\n",
       "      <td>1.094101e+11</td>\n",
       "    </tr>\n",
       "    <tr>\n",
       "      <th>Ripple</th>\n",
       "      <td>6.046328e+10</td>\n",
       "    </tr>\n",
       "    <tr>\n",
       "      <th>Bitcoin Cash</th>\n",
       "      <td>3.193508e+10</td>\n",
       "    </tr>\n",
       "    <tr>\n",
       "      <th>Cardano</th>\n",
       "      <td>1.806689e+10</td>\n",
       "    </tr>\n",
       "  </tbody>\n",
       "</table>\n",
       "</div>"
      ],
      "text/plain": [
       "              market_cap_usd\n",
       "name                        \n",
       "Bitcoin         2.127443e+11\n",
       "Ethereum        1.094101e+11\n",
       "Ripple          6.046328e+10\n",
       "Bitcoin Cash    3.193508e+10\n",
       "Cardano         1.806689e+10"
      ]
     },
     "execution_count": 140,
     "metadata": {},
     "output_type": "execute_result"
    }
   ],
   "source": [
    "market_cap.head()"
   ]
  },
  {
   "cell_type": "code",
   "execution_count": 5,
   "metadata": {
    "collapsed": false
   },
   "outputs": [
    {
     "data": {
      "image/png": "[encoded data removed]",
      "text/plain": [
       "<matplotlib.figure.Figure at 0x11498bb70>"
      ]
     },
     "metadata": {},
     "output_type": "display_data"
    },
    {
     "name": "stdout",
     "output_type": "stream",
     "text": [
      "Total market capitalization of cryptocurrencies: $ 613.96 billion\n"
     ]
    }
   ],
   "source": [
    "_ = (market_cap[:10]/1000000000).plot.bar(color='blue', legend=False)\n",
    "_ = plt.title('Top 10 Cryptocurrencies: Market capitalization')\n",
    "_ = plt.xlabel('Currency')\n",
    "_ = plt.ylabel('Billion USD ($)')\n",
    "plt.show()\n",
    "\n",
    "total_cap = np.sum(market_cap)\n",
    "print('Total market capitalization of cryptocurrencies: $', round(total_cap[0]/1000000000,2), 'billion')"
   ]
  },
  {
   "cell_type": "markdown",
   "metadata": {},
   "source": [
    "We can see that the total capitalization of cryptocurrencies is already huge, Bitcoin is the biggest player on the market, followed by Ethereum and Ripple. \n",
    "\n",
    "## Some more data\n",
    "\n",
    "The following dataset is downloaded from [Kaggle](https://www.kaggle.com/jessevent/all-crypto-currencies/data), a platform that hosts data-related competitions. This dataset includes daily price data from 2013 onwards, for all cryptocurrencies. "
   ]
  },
  {
   "cell_type": "code",
   "execution_count": 6,
   "metadata": {
    "collapsed": false
   },
   "outputs": [
    {
     "data": {
      "text/html": [
       "<div>\n",
       "<style scoped>\n",
       "    .dataframe tbody tr th:only-of-type {\n",
       "        vertical-align: middle;\n",
       "    }\n",
       "\n",
       "    .dataframe tbody tr th {\n",
       "        vertical-align: top;\n",
       "    }\n",
       "\n",
       "    .dataframe thead th {\n",
       "        text-align: right;\n",
       "    }\n",
       "</style>\n",
       "<table border=\"1\" class=\"dataframe\">\n",
       "  <thead>\n",
       "    <tr style=\"text-align: right;\">\n",
       "      <th></th>\n",
       "      <th>slug</th>\n",
       "      <th>symbol</th>\n",
       "      <th>name</th>\n",
       "      <th>date</th>\n",
       "      <th>ranknow</th>\n",
       "      <th>open</th>\n",
       "      <th>high</th>\n",
       "      <th>low</th>\n",
       "      <th>close</th>\n",
       "      <th>volume</th>\n",
       "      <th>market</th>\n",
       "      <th>close_ratio</th>\n",
       "      <th>spread</th>\n",
       "    </tr>\n",
       "  </thead>\n",
       "  <tbody>\n",
       "    <tr>\n",
       "      <th>0</th>\n",
       "      <td>bitcoin</td>\n",
       "      <td>BTC</td>\n",
       "      <td>Bitcoin</td>\n",
       "      <td>2013-04-28</td>\n",
       "      <td>1</td>\n",
       "      <td>135.30</td>\n",
       "      <td>135.98</td>\n",
       "      <td>132.10</td>\n",
       "      <td>134.21</td>\n",
       "      <td>0</td>\n",
       "      <td>1500520000</td>\n",
       "      <td>0.5438</td>\n",
       "      <td>3.88</td>\n",
       "    </tr>\n",
       "    <tr>\n",
       "      <th>1</th>\n",
       "      <td>bitcoin</td>\n",
       "      <td>BTC</td>\n",
       "      <td>Bitcoin</td>\n",
       "      <td>2013-04-29</td>\n",
       "      <td>1</td>\n",
       "      <td>134.44</td>\n",
       "      <td>147.49</td>\n",
       "      <td>134.00</td>\n",
       "      <td>144.54</td>\n",
       "      <td>0</td>\n",
       "      <td>1491160000</td>\n",
       "      <td>0.7813</td>\n",
       "      <td>13.49</td>\n",
       "    </tr>\n",
       "    <tr>\n",
       "      <th>2</th>\n",
       "      <td>bitcoin</td>\n",
       "      <td>BTC</td>\n",
       "      <td>Bitcoin</td>\n",
       "      <td>2013-04-30</td>\n",
       "      <td>1</td>\n",
       "      <td>144.00</td>\n",
       "      <td>146.93</td>\n",
       "      <td>134.05</td>\n",
       "      <td>139.00</td>\n",
       "      <td>0</td>\n",
       "      <td>1597780000</td>\n",
       "      <td>0.3843</td>\n",
       "      <td>12.88</td>\n",
       "    </tr>\n",
       "    <tr>\n",
       "      <th>3</th>\n",
       "      <td>bitcoin</td>\n",
       "      <td>BTC</td>\n",
       "      <td>Bitcoin</td>\n",
       "      <td>2013-05-01</td>\n",
       "      <td>1</td>\n",
       "      <td>139.00</td>\n",
       "      <td>139.89</td>\n",
       "      <td>107.72</td>\n",
       "      <td>116.99</td>\n",
       "      <td>0</td>\n",
       "      <td>1542820000</td>\n",
       "      <td>0.2882</td>\n",
       "      <td>32.17</td>\n",
       "    </tr>\n",
       "    <tr>\n",
       "      <th>4</th>\n",
       "      <td>bitcoin</td>\n",
       "      <td>BTC</td>\n",
       "      <td>Bitcoin</td>\n",
       "      <td>2013-05-02</td>\n",
       "      <td>1</td>\n",
       "      <td>116.38</td>\n",
       "      <td>125.60</td>\n",
       "      <td>92.28</td>\n",
       "      <td>105.21</td>\n",
       "      <td>0</td>\n",
       "      <td>1292190000</td>\n",
       "      <td>0.3881</td>\n",
       "      <td>33.32</td>\n",
       "    </tr>\n",
       "  </tbody>\n",
       "</table>\n",
       "</div>"
      ],
      "text/plain": [
       "      slug symbol     name        date  ranknow    open    high     low  \\\n",
       "0  bitcoin    BTC  Bitcoin  2013-04-28        1  135.30  135.98  132.10   \n",
       "1  bitcoin    BTC  Bitcoin  2013-04-29        1  134.44  147.49  134.00   \n",
       "2  bitcoin    BTC  Bitcoin  2013-04-30        1  144.00  146.93  134.05   \n",
       "3  bitcoin    BTC  Bitcoin  2013-05-01        1  139.00  139.89  107.72   \n",
       "4  bitcoin    BTC  Bitcoin  2013-05-02        1  116.38  125.60   92.28   \n",
       "\n",
       "    close  volume      market  close_ratio  spread  \n",
       "0  134.21       0  1500520000       0.5438    3.88  \n",
       "1  144.54       0  1491160000       0.7813   13.49  \n",
       "2  139.00       0  1597780000       0.3843   12.88  \n",
       "3  116.99       0  1542820000       0.2882   32.17  \n",
       "4  105.21       0  1292190000       0.3881   33.32  "
      ]
     },
     "execution_count": 6,
     "metadata": {},
     "output_type": "execute_result"
    }
   ],
   "source": [
    "# Importing the data\n",
    "df1 = pd.read_csv('crypto-markets.csv')\n",
    "\n",
    "# Data inspection\n",
    "df1.head(5)"
   ]
  },
  {
   "cell_type": "code",
   "execution_count": 7,
   "metadata": {
    "collapsed": false
   },
   "outputs": [],
   "source": [
    "# Selecting data as of 2017\n",
    "df1['date'] = pd.to_datetime(df1['date'])\n",
    "df1 = df1.loc[df1['date'] >= '2017']\n",
    "\n",
    "# Selecting relevant columns\n",
    "exchange = df1[['symbol','name','close','date']]\n",
    "\n",
    "# Selecting relevant currencies\n",
    "exchange.dropna(inplace = True)\n",
    "\n",
    "exchangeBTC = exchange.loc[exchange['symbol'] == 'BTC'] \n",
    "exchangeETH = exchange.loc[exchange['symbol'] == 'ETH'] \n",
    "exchangeRIP = exchange.loc[exchange['symbol'] == 'XRP'] \n",
    "\n",
    "exchange = pd.concat([exchangeBTC, exchangeETH, exchangeRIP], ignore_index=True)\n",
    "\n",
    "# Order by date\n",
    "exchange.sort_values(['date','symbol'], inplace=True)\n",
    "\n",
    "# Setting the index\n",
    "exchange.set_index('date', inplace=True)"
   ]
  },
  {
   "cell_type": "code",
   "execution_count": 8,
   "metadata": {
    "collapsed": false
   },
   "outputs": [
    {
     "data": {
      "text/html": [
       "<div>\n",
       "<style scoped>\n",
       "    .dataframe tbody tr th:only-of-type {\n",
       "        vertical-align: middle;\n",
       "    }\n",
       "\n",
       "    .dataframe tbody tr th {\n",
       "        vertical-align: top;\n",
       "    }\n",
       "\n",
       "    .dataframe thead th {\n",
       "        text-align: right;\n",
       "    }\n",
       "</style>\n",
       "<table border=\"1\" class=\"dataframe\">\n",
       "  <thead>\n",
       "    <tr style=\"text-align: right;\">\n",
       "      <th></th>\n",
       "      <th>Bitcoin</th>\n",
       "      <th>Ethereum</th>\n",
       "      <th>Ripple</th>\n",
       "    </tr>\n",
       "    <tr>\n",
       "      <th>date</th>\n",
       "      <th></th>\n",
       "      <th></th>\n",
       "      <th></th>\n",
       "    </tr>\n",
       "  </thead>\n",
       "  <tbody>\n",
       "    <tr>\n",
       "      <th>2017-01-01</th>\n",
       "      <td>998.33</td>\n",
       "      <td>8.17</td>\n",
       "      <td>0.006368</td>\n",
       "    </tr>\n",
       "    <tr>\n",
       "      <th>2017-01-02</th>\n",
       "      <td>1021.75</td>\n",
       "      <td>8.38</td>\n",
       "      <td>0.006311</td>\n",
       "    </tr>\n",
       "    <tr>\n",
       "      <th>2017-01-03</th>\n",
       "      <td>1043.84</td>\n",
       "      <td>9.73</td>\n",
       "      <td>0.006386</td>\n",
       "    </tr>\n",
       "    <tr>\n",
       "      <th>2017-01-04</th>\n",
       "      <td>1154.73</td>\n",
       "      <td>11.25</td>\n",
       "      <td>0.006570</td>\n",
       "    </tr>\n",
       "    <tr>\n",
       "      <th>2017-01-05</th>\n",
       "      <td>1013.38</td>\n",
       "      <td>10.25</td>\n",
       "      <td>0.006201</td>\n",
       "    </tr>\n",
       "  </tbody>\n",
       "</table>\n",
       "</div>"
      ],
      "text/plain": [
       "            Bitcoin  Ethereum    Ripple\n",
       "date                                   \n",
       "2017-01-01   998.33      8.17  0.006368\n",
       "2017-01-02  1021.75      8.38  0.006311\n",
       "2017-01-03  1043.84      9.73  0.006386\n",
       "2017-01-04  1154.73     11.25  0.006570\n",
       "2017-01-05  1013.38     10.25  0.006201"
      ]
     },
     "execution_count": 8,
     "metadata": {},
     "output_type": "execute_result"
    }
   ],
   "source": [
    "# Constructing new columns from the closing prices\n",
    "exchange['Bitcoin'] = exchange.close[0::3]\n",
    "exchange['Ethereum'] = exchange.close[1::3]\n",
    "exchange['Ripple'] = exchange.close[2::3]\n",
    "\n",
    "# Keeping only the relevant columns and dropping duplicate rows\n",
    "exchange = exchange[['Bitcoin','Ethereum','Ripple']]\n",
    "exchange = exchange.loc[::3,:]\n",
    "\n",
    "# Inspecting the dataframe\n",
    "exchange.head()"
   ]
  },
  {
   "cell_type": "markdown",
   "metadata": {},
   "source": [
    "For now, we are only interested in daily closing prices of the top three cryptocurrencies from 2017 onwards. We have altered the dataframe such that we have our three currencies as columns, dates as indeces and closing prices as values. Next, we will plot closing prices for these currencies and we will show some summary statistics for these data. "
   ]
  },
  {
   "cell_type": "code",
   "execution_count": 9,
   "metadata": {
    "collapsed": false,
    "scrolled": false
   },
   "outputs": [
    {
     "data": {
      "image/png": "[encoded data removed]",
      "text/plain": [
       "<matplotlib.figure.Figure at 0x116e20a58>"
      ]
     },
     "metadata": {},
     "output_type": "display_data"
    },
    {
     "data": {
      "text/html": [
       "<div>\n",
       "<style scoped>\n",
       "    .dataframe tbody tr th:only-of-type {\n",
       "        vertical-align: middle;\n",
       "    }\n",
       "\n",
       "    .dataframe tbody tr th {\n",
       "        vertical-align: top;\n",
       "    }\n",
       "\n",
       "    .dataframe thead th {\n",
       "        text-align: right;\n",
       "    }\n",
       "</style>\n",
       "<table border=\"1\" class=\"dataframe\">\n",
       "  <thead>\n",
       "    <tr style=\"text-align: right;\">\n",
       "      <th></th>\n",
       "      <th>Bitcoin</th>\n",
       "      <th>Ethereum</th>\n",
       "      <th>Ripple</th>\n",
       "    </tr>\n",
       "  </thead>\n",
       "  <tbody>\n",
       "    <tr>\n",
       "      <th>count</th>\n",
       "      <td>375.000000</td>\n",
       "      <td>375.000000</td>\n",
       "      <td>375.000000</td>\n",
       "    </tr>\n",
       "    <tr>\n",
       "      <th>mean</th>\n",
       "      <td>4314.172480</td>\n",
       "      <td>245.937333</td>\n",
       "      <td>0.270975</td>\n",
       "    </tr>\n",
       "    <tr>\n",
       "      <th>std</th>\n",
       "      <td>4415.960737</td>\n",
       "      <td>228.729135</td>\n",
       "      <td>0.495798</td>\n",
       "    </tr>\n",
       "    <tr>\n",
       "      <th>min</th>\n",
       "      <td>777.760000</td>\n",
       "      <td>8.170000</td>\n",
       "      <td>0.005408</td>\n",
       "    </tr>\n",
       "    <tr>\n",
       "      <th>25%</th>\n",
       "      <td>1197.140000</td>\n",
       "      <td>48.260000</td>\n",
       "      <td>0.031331</td>\n",
       "    </tr>\n",
       "    <tr>\n",
       "      <th>50%</th>\n",
       "      <td>2608.720000</td>\n",
       "      <td>251.700000</td>\n",
       "      <td>0.197339</td>\n",
       "    </tr>\n",
       "    <tr>\n",
       "      <th>75%</th>\n",
       "      <td>4777.005000</td>\n",
       "      <td>317.300000</td>\n",
       "      <td>0.251758</td>\n",
       "    </tr>\n",
       "    <tr>\n",
       "      <th>max</th>\n",
       "      <td>19497.400000</td>\n",
       "      <td>1299.740000</td>\n",
       "      <td>3.380000</td>\n",
       "    </tr>\n",
       "  </tbody>\n",
       "</table>\n",
       "</div>"
      ],
      "text/plain": [
       "            Bitcoin     Ethereum      Ripple\n",
       "count    375.000000   375.000000  375.000000\n",
       "mean    4314.172480   245.937333    0.270975\n",
       "std     4415.960737   228.729135    0.495798\n",
       "min      777.760000     8.170000    0.005408\n",
       "25%     1197.140000    48.260000    0.031331\n",
       "50%     2608.720000   251.700000    0.197339\n",
       "75%     4777.005000   317.300000    0.251758\n",
       "max    19497.400000  1299.740000    3.380000"
      ]
     },
     "execution_count": 9,
     "metadata": {},
     "output_type": "execute_result"
    }
   ],
   "source": [
    "COLORS = ['orange','green','blue']\n",
    "\n",
    "_ = exchange.plot.line(title = 'Price data', subplots = True, color=COLORS)\n",
    "_ = plt.xlabel('Date')\n",
    "_ = plt.ylabel('USD ($)')\n",
    "plt.show()\n",
    "\n",
    "exchange.describe()"
   ]
  },
  {
   "cell_type": "markdown",
   "metadata": {},
   "source": [
    "As can be seen, Bitcoin prices have always been far ahead, the currencies seem to have become more correlated and Ripple has only begun showing a massive price increase in the recent past. \n",
    "\n",
    "As a benchmark we will now load data from the Yahoo Finance API for the S&P 500, we will again select closing prices using the same dates. The S&P 500 is often used as a proxy for the performance of the USA stock market.  "
   ]
  },
  {
   "cell_type": "code",
   "execution_count": 10,
   "metadata": {
    "collapsed": false
   },
   "outputs": [
    {
     "data": {
      "text/html": [
       "<div>\n",
       "<style scoped>\n",
       "    .dataframe tbody tr th:only-of-type {\n",
       "        vertical-align: middle;\n",
       "    }\n",
       "\n",
       "    .dataframe tbody tr th {\n",
       "        vertical-align: top;\n",
       "    }\n",
       "\n",
       "    .dataframe thead th {\n",
       "        text-align: right;\n",
       "    }\n",
       "</style>\n",
       "<table border=\"1\" class=\"dataframe\">\n",
       "  <thead>\n",
       "    <tr style=\"text-align: right;\">\n",
       "      <th></th>\n",
       "      <th>Close</th>\n",
       "    </tr>\n",
       "    <tr>\n",
       "      <th>Date</th>\n",
       "      <th></th>\n",
       "    </tr>\n",
       "  </thead>\n",
       "  <tbody>\n",
       "    <tr>\n",
       "      <th>2017-01-03</th>\n",
       "      <td>2257.830078</td>\n",
       "    </tr>\n",
       "    <tr>\n",
       "      <th>2017-01-04</th>\n",
       "      <td>2270.750000</td>\n",
       "    </tr>\n",
       "    <tr>\n",
       "      <th>2017-01-05</th>\n",
       "      <td>2269.000000</td>\n",
       "    </tr>\n",
       "    <tr>\n",
       "      <th>2017-01-06</th>\n",
       "      <td>2276.979980</td>\n",
       "    </tr>\n",
       "    <tr>\n",
       "      <th>2017-01-09</th>\n",
       "      <td>2268.899902</td>\n",
       "    </tr>\n",
       "  </tbody>\n",
       "</table>\n",
       "</div>"
      ],
      "text/plain": [
       "                  Close\n",
       "Date                   \n",
       "2017-01-03  2257.830078\n",
       "2017-01-04  2270.750000\n",
       "2017-01-05  2269.000000\n",
       "2017-01-06  2276.979980\n",
       "2017-01-09  2268.899902"
      ]
     },
     "execution_count": 10,
     "metadata": {},
     "output_type": "execute_result"
    }
   ],
   "source": [
    "# We will compare these returns against the S&P 500\n",
    "start = date(2017, 1, 1)\n",
    "end = date(2018, 1, 10)\n",
    "ticker = '^GSPC'\n",
    "data_source = 'yahoo'\n",
    "stock_data = DataReader(ticker, data_source, start, end)\n",
    "\n",
    "sp500 = pd.DataFrame(stock_data.Close)\n",
    "\n",
    "# Data inspection\n",
    "sp500.head()"
   ]
  },
  {
   "cell_type": "code",
   "execution_count": 11,
   "metadata": {
    "collapsed": false
   },
   "outputs": [
    {
     "data": {
      "image/png": "[encoded data removed]",
      "text/plain": [
       "<matplotlib.figure.Figure at 0x116ebb4a8>"
      ]
     },
     "metadata": {},
     "output_type": "display_data"
    },
    {
     "data": {
      "text/html": [
       "<div>\n",
       "<style scoped>\n",
       "    .dataframe tbody tr th:only-of-type {\n",
       "        vertical-align: middle;\n",
       "    }\n",
       "\n",
       "    .dataframe tbody tr th {\n",
       "        vertical-align: top;\n",
       "    }\n",
       "\n",
       "    .dataframe thead th {\n",
       "        text-align: right;\n",
       "    }\n",
       "</style>\n",
       "<table border=\"1\" class=\"dataframe\">\n",
       "  <thead>\n",
       "    <tr style=\"text-align: right;\">\n",
       "      <th></th>\n",
       "      <th>Close</th>\n",
       "    </tr>\n",
       "  </thead>\n",
       "  <tbody>\n",
       "    <tr>\n",
       "      <th>count</th>\n",
       "      <td>258.000000</td>\n",
       "    </tr>\n",
       "    <tr>\n",
       "      <th>mean</th>\n",
       "      <td>2456.749656</td>\n",
       "    </tr>\n",
       "    <tr>\n",
       "      <th>std</th>\n",
       "      <td>117.371874</td>\n",
       "    </tr>\n",
       "    <tr>\n",
       "      <th>min</th>\n",
       "      <td>2257.830078</td>\n",
       "    </tr>\n",
       "    <tr>\n",
       "      <th>25%</th>\n",
       "      <td>2367.520081</td>\n",
       "    </tr>\n",
       "    <tr>\n",
       "      <th>50%</th>\n",
       "      <td>2438.255005</td>\n",
       "    </tr>\n",
       "    <tr>\n",
       "      <th>75%</th>\n",
       "      <td>2550.312439</td>\n",
       "    </tr>\n",
       "    <tr>\n",
       "      <th>max</th>\n",
       "      <td>2751.290039</td>\n",
       "    </tr>\n",
       "  </tbody>\n",
       "</table>\n",
       "</div>"
      ],
      "text/plain": [
       "             Close\n",
       "count   258.000000\n",
       "mean   2456.749656\n",
       "std     117.371874\n",
       "min    2257.830078\n",
       "25%    2367.520081\n",
       "50%    2438.255005\n",
       "75%    2550.312439\n",
       "max    2751.290039"
      ]
     },
     "execution_count": 11,
     "metadata": {},
     "output_type": "execute_result"
    }
   ],
   "source": [
    "_ = sp500.plot.line(title='S&P 500')\n",
    "_ = plt.ylabel('USD ($)')\n",
    "plt.show()\n",
    "\n",
    "sp500.describe()"
   ]
  },
  {
   "cell_type": "markdown",
   "metadata": {},
   "source": [
    "As can be seen in the plot above, the S&P 500 has shown some steady progress in 2017 as well. However, while not clearly visible from this graph, the S&P 500 is trumped by cryptocurrencies in terms of performance over 2017. \n",
    "\n",
    "Let us now add the S&P 500 data to our cryptocurrency data, "
   ]
  },
  {
   "cell_type": "code",
   "execution_count": 12,
   "metadata": {
    "collapsed": false
   },
   "outputs": [
    {
     "data": {
      "text/html": [
       "<div>\n",
       "<style scoped>\n",
       "    .dataframe tbody tr th:only-of-type {\n",
       "        vertical-align: middle;\n",
       "    }\n",
       "\n",
       "    .dataframe tbody tr th {\n",
       "        vertical-align: top;\n",
       "    }\n",
       "\n",
       "    .dataframe thead th {\n",
       "        text-align: right;\n",
       "    }\n",
       "</style>\n",
       "<table border=\"1\" class=\"dataframe\">\n",
       "  <thead>\n",
       "    <tr style=\"text-align: right;\">\n",
       "      <th></th>\n",
       "      <th>Bitcoin</th>\n",
       "      <th>Ethereum</th>\n",
       "      <th>Ripple</th>\n",
       "      <th>SP500</th>\n",
       "    </tr>\n",
       "    <tr>\n",
       "      <th>date</th>\n",
       "      <th></th>\n",
       "      <th></th>\n",
       "      <th></th>\n",
       "      <th></th>\n",
       "    </tr>\n",
       "  </thead>\n",
       "  <tbody>\n",
       "    <tr>\n",
       "      <th>2017-01-03</th>\n",
       "      <td>1043.84</td>\n",
       "      <td>9.73</td>\n",
       "      <td>0.006386</td>\n",
       "      <td>2257.830078</td>\n",
       "    </tr>\n",
       "    <tr>\n",
       "      <th>2017-01-04</th>\n",
       "      <td>1154.73</td>\n",
       "      <td>11.25</td>\n",
       "      <td>0.006570</td>\n",
       "      <td>2270.750000</td>\n",
       "    </tr>\n",
       "    <tr>\n",
       "      <th>2017-01-05</th>\n",
       "      <td>1013.38</td>\n",
       "      <td>10.25</td>\n",
       "      <td>0.006201</td>\n",
       "      <td>2269.000000</td>\n",
       "    </tr>\n",
       "    <tr>\n",
       "      <th>2017-01-06</th>\n",
       "      <td>902.20</td>\n",
       "      <td>10.25</td>\n",
       "      <td>0.006315</td>\n",
       "      <td>2276.979980</td>\n",
       "    </tr>\n",
       "    <tr>\n",
       "      <th>2017-01-09</th>\n",
       "      <td>902.83</td>\n",
       "      <td>10.33</td>\n",
       "      <td>0.006167</td>\n",
       "      <td>2268.899902</td>\n",
       "    </tr>\n",
       "  </tbody>\n",
       "</table>\n",
       "</div>"
      ],
      "text/plain": [
       "            Bitcoin  Ethereum    Ripple        SP500\n",
       "date                                                \n",
       "2017-01-03  1043.84      9.73  0.006386  2257.830078\n",
       "2017-01-04  1154.73     11.25  0.006570  2270.750000\n",
       "2017-01-05  1013.38     10.25  0.006201  2269.000000\n",
       "2017-01-06   902.20     10.25  0.006315  2276.979980\n",
       "2017-01-09   902.83     10.33  0.006167  2268.899902"
      ]
     },
     "execution_count": 12,
     "metadata": {},
     "output_type": "execute_result"
    }
   ],
   "source": [
    "exchange['SP500'] = sp500.Close\n",
    "exchange.dropna(inplace=True) #to be able to substract SP500 (closed on weekends)\n",
    "exchange.head()"
   ]
  },
  {
   "cell_type": "code",
   "execution_count": 13,
   "metadata": {
    "collapsed": false,
    "scrolled": true
   },
   "outputs": [
    {
     "data": {
      "image/png": "[encoded data removed]",
      "text/plain": [
       "<matplotlib.figure.Figure at 0x116ffc358>"
      ]
     },
     "metadata": {},
     "output_type": "display_data"
    }
   ],
   "source": [
    "# Showing the daily risk premium of the three different currencies\n",
    "\n",
    "daily_returns = exchange.pct_change()\n",
    "crypto_returns = daily_returns[['Bitcoin','Ethereum','Ripple']]\n",
    "sp_returns = daily_returns['SP500']\n",
    "excess_returns = crypto_returns.sub(sp_returns, axis=0)\n",
    "\n",
    "_ = excess_returns.plot(title = 'Excess returns per currency', color=COLORS)\n",
    "_.yaxis.set_major_formatter(FuncFormatter(lambda y, _:'{:.0%}'.format(y)))\n",
    "_ = plt.ylabel('Daily excess returns')\n",
    "_ = plt.xlabel('Date')\n",
    "plt.show()\n"
   ]
  },
  {
   "cell_type": "code",
   "execution_count": 14,
   "metadata": {
    "collapsed": false
   },
   "outputs": [
    {
     "data": {
      "image/png": "[encoded data removed]",
      "text/plain": [
       "<matplotlib.figure.Figure at 0x116fffd30>"
      ]
     },
     "metadata": {},
     "output_type": "display_data"
    }
   ],
   "source": [
    "# The mean of the excess returns\n",
    "avg_excess_returns = excess_returns.mean()\n",
    "\n",
    "# Plotting the means of the return differences\n",
    "_ = avg_excess_returns.plot.bar(title = 'Average risk premium', color=COLORS)\n",
    "_ = plt.ylabel('Average daily returns')\n",
    "plt.show()\n"
   ]
  },
  {
   "cell_type": "code",
   "execution_count": 15,
   "metadata": {
    "collapsed": false
   },
   "outputs": [
    {
     "data": {
      "image/png": "[encoded data removed]",
      "text/plain": [
       "<matplotlib.figure.Figure at 0x116fc69e8>"
      ]
     },
     "metadata": {},
     "output_type": "display_data"
    }
   ],
   "source": [
    "# The standard deviation of the excess returns\n",
    "std_excess_returns = excess_returns.std()\n",
    "\n",
    "# Plotting the standard devations of the return differences\n",
    "_ = std_excess_returns.plot.bar(title = 'Volatility of the currencies', color=COLORS)\n",
    "_ = plt.ylabel('Standard deviation')\n",
    "plt.show()"
   ]
  },
  {
   "cell_type": "code",
   "execution_count": 16,
   "metadata": {
    "collapsed": false
   },
   "outputs": [
    {
     "data": {
      "text/html": [
       "<div>\n",
       "<style scoped>\n",
       "    .dataframe tbody tr th:only-of-type {\n",
       "        vertical-align: middle;\n",
       "    }\n",
       "\n",
       "    .dataframe tbody tr th {\n",
       "        vertical-align: top;\n",
       "    }\n",
       "\n",
       "    .dataframe thead th {\n",
       "        text-align: right;\n",
       "    }\n",
       "</style>\n",
       "<table border=\"1\" class=\"dataframe\">\n",
       "  <thead>\n",
       "    <tr style=\"text-align: right;\">\n",
       "      <th></th>\n",
       "      <th>Annualized Sharpe Ratio</th>\n",
       "    </tr>\n",
       "  </thead>\n",
       "  <tbody>\n",
       "    <tr>\n",
       "      <th>Bitcoin</th>\n",
       "      <td>3.117520</td>\n",
       "    </tr>\n",
       "    <tr>\n",
       "      <th>Ethereum</th>\n",
       "      <td>3.849850</td>\n",
       "    </tr>\n",
       "    <tr>\n",
       "      <th>Ripple</th>\n",
       "      <td>3.313994</td>\n",
       "    </tr>\n",
       "  </tbody>\n",
       "</table>\n",
       "</div>"
      ],
      "text/plain": [
       "          Annualized Sharpe Ratio\n",
       "Bitcoin                  3.117520\n",
       "Ethereum                 3.849850\n",
       "Ripple                   3.313994"
      ]
     },
     "execution_count": 16,
     "metadata": {},
     "output_type": "execute_result"
    }
   ],
   "source": [
    "# We define a function for the annualized Sharpe ratio\n",
    "def sharpe(mean, std, n_periods):\n",
    "    return np.sqrt(n_periods)*(mean/std)\n",
    "\n",
    "# Now we calculate the sharpe ratio for the three cryptocurrencies\n",
    "pd.DataFrame(sharpe(avg_excess_returns, std_excess_returns, len(excess_returns)),columns=[\"Annualized Sharpe Ratio\"])"
   ]
  },
  {
   "cell_type": "markdown",
   "metadata": {},
   "source": [
    "## Result"
   ]
  },
  {
   "cell_type": "code",
   "execution_count": 17,
   "metadata": {
    "collapsed": false
   },
   "outputs": [
    {
     "name": "stdout",
     "output_type": "stream",
     "text": [
      "Based on the Sharpe ratios of these results, it seems best to buy Ethereum\n"
     ]
    }
   ],
   "source": [
    "print('Based on the Sharpe ratios of these results, it seems best to buy', np.argmax(sharpe(avg_excess_returns, std_excess_returns, len(excess_returns))))"
   ]
  },
  {
   "cell_type": "markdown",
   "metadata": {},
   "source": [
    "## Part 2"
   ]
  },
  {
   "cell_type": "code",
   "execution_count": 18,
   "metadata": {
    "collapsed": false
   },
   "outputs": [
    {
     "data": {
      "text/html": [
       "<div>\n",
       "<style scoped>\n",
       "    .dataframe tbody tr th:only-of-type {\n",
       "        vertical-align: middle;\n",
       "    }\n",
       "\n",
       "    .dataframe tbody tr th {\n",
       "        vertical-align: top;\n",
       "    }\n",
       "\n",
       "    .dataframe thead th {\n",
       "        text-align: right;\n",
       "    }\n",
       "</style>\n",
       "<table border=\"1\" class=\"dataframe\">\n",
       "  <thead>\n",
       "    <tr style=\"text-align: right;\">\n",
       "      <th>name</th>\n",
       "      <th>0x</th>\n",
       "      <th>10M Token</th>\n",
       "      <th>1337</th>\n",
       "      <th>2GIVE</th>\n",
       "      <th>300 Token</th>\n",
       "      <th>42-coin</th>\n",
       "      <th>808Coin</th>\n",
       "      <th>8Bit</th>\n",
       "      <th>9COIN</th>\n",
       "      <th>AI Doctor</th>\n",
       "      <th>...</th>\n",
       "      <th>iDice</th>\n",
       "      <th>iEthereum</th>\n",
       "      <th>iExec RLC</th>\n",
       "      <th>iQuant</th>\n",
       "      <th>iTicoin</th>\n",
       "      <th>iXledger</th>\n",
       "      <th>netBit</th>\n",
       "      <th>onG.social</th>\n",
       "      <th>vSlice</th>\n",
       "      <th>vTorrent</th>\n",
       "    </tr>\n",
       "    <tr>\n",
       "      <th>date</th>\n",
       "      <th></th>\n",
       "      <th></th>\n",
       "      <th></th>\n",
       "      <th></th>\n",
       "      <th></th>\n",
       "      <th></th>\n",
       "      <th></th>\n",
       "      <th></th>\n",
       "      <th></th>\n",
       "      <th></th>\n",
       "      <th></th>\n",
       "      <th></th>\n",
       "      <th></th>\n",
       "      <th></th>\n",
       "      <th></th>\n",
       "      <th></th>\n",
       "      <th></th>\n",
       "      <th></th>\n",
       "      <th></th>\n",
       "      <th></th>\n",
       "      <th></th>\n",
       "    </tr>\n",
       "  </thead>\n",
       "  <tbody>\n",
       "    <tr>\n",
       "      <th>2017-01-01</th>\n",
       "      <td>NaN</td>\n",
       "      <td>NaN</td>\n",
       "      <td>0.000001</td>\n",
       "      <td>0.000330</td>\n",
       "      <td>NaN</td>\n",
       "      <td>NaN</td>\n",
       "      <td>0.000190</td>\n",
       "      <td>NaN</td>\n",
       "      <td>NaN</td>\n",
       "      <td>NaN</td>\n",
       "      <td>...</td>\n",
       "      <td>NaN</td>\n",
       "      <td>NaN</td>\n",
       "      <td>NaN</td>\n",
       "      <td>NaN</td>\n",
       "      <td>NaN</td>\n",
       "      <td>NaN</td>\n",
       "      <td>0.000502</td>\n",
       "      <td>NaN</td>\n",
       "      <td>0.081857</td>\n",
       "      <td>0.025942</td>\n",
       "    </tr>\n",
       "    <tr>\n",
       "      <th>2017-01-02</th>\n",
       "      <td>NaN</td>\n",
       "      <td>NaN</td>\n",
       "      <td>0.000002</td>\n",
       "      <td>0.000276</td>\n",
       "      <td>NaN</td>\n",
       "      <td>NaN</td>\n",
       "      <td>0.000163</td>\n",
       "      <td>0.011243</td>\n",
       "      <td>NaN</td>\n",
       "      <td>NaN</td>\n",
       "      <td>...</td>\n",
       "      <td>NaN</td>\n",
       "      <td>NaN</td>\n",
       "      <td>NaN</td>\n",
       "      <td>NaN</td>\n",
       "      <td>NaN</td>\n",
       "      <td>NaN</td>\n",
       "      <td>0.000451</td>\n",
       "      <td>NaN</td>\n",
       "      <td>0.077368</td>\n",
       "      <td>0.021693</td>\n",
       "    </tr>\n",
       "    <tr>\n",
       "      <th>2017-01-03</th>\n",
       "      <td>NaN</td>\n",
       "      <td>NaN</td>\n",
       "      <td>0.000002</td>\n",
       "      <td>0.000380</td>\n",
       "      <td>NaN</td>\n",
       "      <td>NaN</td>\n",
       "      <td>0.000167</td>\n",
       "      <td>0.012373</td>\n",
       "      <td>NaN</td>\n",
       "      <td>NaN</td>\n",
       "      <td>...</td>\n",
       "      <td>NaN</td>\n",
       "      <td>NaN</td>\n",
       "      <td>NaN</td>\n",
       "      <td>NaN</td>\n",
       "      <td>NaN</td>\n",
       "      <td>NaN</td>\n",
       "      <td>0.000450</td>\n",
       "      <td>NaN</td>\n",
       "      <td>0.062777</td>\n",
       "      <td>0.022364</td>\n",
       "    </tr>\n",
       "    <tr>\n",
       "      <th>2017-01-04</th>\n",
       "      <td>NaN</td>\n",
       "      <td>NaN</td>\n",
       "      <td>0.000001</td>\n",
       "      <td>0.000392</td>\n",
       "      <td>NaN</td>\n",
       "      <td>NaN</td>\n",
       "      <td>0.000185</td>\n",
       "      <td>0.013417</td>\n",
       "      <td>NaN</td>\n",
       "      <td>NaN</td>\n",
       "      <td>...</td>\n",
       "      <td>NaN</td>\n",
       "      <td>NaN</td>\n",
       "      <td>NaN</td>\n",
       "      <td>NaN</td>\n",
       "      <td>NaN</td>\n",
       "      <td>NaN</td>\n",
       "      <td>0.000600</td>\n",
       "      <td>NaN</td>\n",
       "      <td>0.057517</td>\n",
       "      <td>0.025055</td>\n",
       "    </tr>\n",
       "    <tr>\n",
       "      <th>2017-01-05</th>\n",
       "      <td>NaN</td>\n",
       "      <td>NaN</td>\n",
       "      <td>0.000001</td>\n",
       "      <td>0.000263</td>\n",
       "      <td>NaN</td>\n",
       "      <td>NaN</td>\n",
       "      <td>0.000101</td>\n",
       "      <td>0.010844</td>\n",
       "      <td>NaN</td>\n",
       "      <td>NaN</td>\n",
       "      <td>...</td>\n",
       "      <td>NaN</td>\n",
       "      <td>NaN</td>\n",
       "      <td>NaN</td>\n",
       "      <td>NaN</td>\n",
       "      <td>NaN</td>\n",
       "      <td>NaN</td>\n",
       "      <td>NaN</td>\n",
       "      <td>NaN</td>\n",
       "      <td>0.055768</td>\n",
       "      <td>0.022355</td>\n",
       "    </tr>\n",
       "  </tbody>\n",
       "</table>\n",
       "<p>5 rows × 1397 columns</p>\n",
       "</div>"
      ],
      "text/plain": [
       "name        0x  10M Token      1337     2GIVE  300 Token  42-coin   808Coin  \\\n",
       "date                                                                          \n",
       "2017-01-01 NaN        NaN  0.000001  0.000330        NaN      NaN  0.000190   \n",
       "2017-01-02 NaN        NaN  0.000002  0.000276        NaN      NaN  0.000163   \n",
       "2017-01-03 NaN        NaN  0.000002  0.000380        NaN      NaN  0.000167   \n",
       "2017-01-04 NaN        NaN  0.000001  0.000392        NaN      NaN  0.000185   \n",
       "2017-01-05 NaN        NaN  0.000001  0.000263        NaN      NaN  0.000101   \n",
       "\n",
       "name            8Bit  9COIN  AI Doctor    ...     iDice  iEthereum  iExec RLC  \\\n",
       "date                                      ...                                   \n",
       "2017-01-01       NaN    NaN        NaN    ...       NaN        NaN        NaN   \n",
       "2017-01-02  0.011243    NaN        NaN    ...       NaN        NaN        NaN   \n",
       "2017-01-03  0.012373    NaN        NaN    ...       NaN        NaN        NaN   \n",
       "2017-01-04  0.013417    NaN        NaN    ...       NaN        NaN        NaN   \n",
       "2017-01-05  0.010844    NaN        NaN    ...       NaN        NaN        NaN   \n",
       "\n",
       "name        iQuant  iTicoin  iXledger    netBit  onG.social    vSlice  \\\n",
       "date                                                                    \n",
       "2017-01-01     NaN      NaN       NaN  0.000502         NaN  0.081857   \n",
       "2017-01-02     NaN      NaN       NaN  0.000451         NaN  0.077368   \n",
       "2017-01-03     NaN      NaN       NaN  0.000450         NaN  0.062777   \n",
       "2017-01-04     NaN      NaN       NaN  0.000600         NaN  0.057517   \n",
       "2017-01-05     NaN      NaN       NaN       NaN         NaN  0.055768   \n",
       "\n",
       "name        vTorrent  \n",
       "date                  \n",
       "2017-01-01  0.025942  \n",
       "2017-01-02  0.021693  \n",
       "2017-01-03  0.022364  \n",
       "2017-01-04  0.025055  \n",
       "2017-01-05  0.022355  \n",
       "\n",
       "[5 rows x 1397 columns]"
      ]
     },
     "execution_count": 18,
     "metadata": {},
     "output_type": "execute_result"
    }
   ],
   "source": [
    "rates = df1[['date','name','close']]\n",
    "rates = rates.pivot_table(index='date',columns='name', values='close', aggfunc='mean')\n",
    "rates.head()"
   ]
  },
  {
   "cell_type": "code",
   "execution_count": 19,
   "metadata": {
    "collapsed": false
   },
   "outputs": [
    {
     "data": {
      "text/html": [
       "<div>\n",
       "<style scoped>\n",
       "    .dataframe tbody tr th:only-of-type {\n",
       "        vertical-align: middle;\n",
       "    }\n",
       "\n",
       "    .dataframe tbody tr th {\n",
       "        vertical-align: top;\n",
       "    }\n",
       "\n",
       "    .dataframe thead th {\n",
       "        text-align: right;\n",
       "    }\n",
       "</style>\n",
       "<table border=\"1\" class=\"dataframe\">\n",
       "  <thead>\n",
       "    <tr style=\"text-align: right;\">\n",
       "      <th></th>\n",
       "      <th>name</th>\n",
       "      <th>avg</th>\n",
       "      <th>std</th>\n",
       "    </tr>\n",
       "  </thead>\n",
       "  <tbody>\n",
       "    <tr>\n",
       "      <th>0</th>\n",
       "      <td>0x</td>\n",
       "      <td>0.021216</td>\n",
       "      <td>0.113665</td>\n",
       "    </tr>\n",
       "    <tr>\n",
       "      <th>1</th>\n",
       "      <td>10M Token</td>\n",
       "      <td>0.165021</td>\n",
       "      <td>0.729515</td>\n",
       "    </tr>\n",
       "    <tr>\n",
       "      <th>2</th>\n",
       "      <td>1337</td>\n",
       "      <td>0.134956</td>\n",
       "      <td>0.742289</td>\n",
       "    </tr>\n",
       "    <tr>\n",
       "      <th>3</th>\n",
       "      <td>2GIVE</td>\n",
       "      <td>0.022978</td>\n",
       "      <td>0.155210</td>\n",
       "    </tr>\n",
       "    <tr>\n",
       "      <th>4</th>\n",
       "      <td>300 Token</td>\n",
       "      <td>0.021922</td>\n",
       "      <td>0.220645</td>\n",
       "    </tr>\n",
       "  </tbody>\n",
       "</table>\n",
       "</div>"
      ],
      "text/plain": [
       "        name       avg       std\n",
       "0         0x  0.021216  0.113665\n",
       "1  10M Token  0.165021  0.729515\n",
       "2       1337  0.134956  0.742289\n",
       "3      2GIVE  0.022978  0.155210\n",
       "4  300 Token  0.021922  0.220645"
      ]
     },
     "execution_count": 19,
     "metadata": {},
     "output_type": "execute_result"
    }
   ],
   "source": [
    "avg_daily_return = rates.pct_change().mean()\n",
    "std_daily_return = rates.pct_change().std()\n",
    "\n",
    "avg_daily_return = pd.DataFrame(avg_daily_return).reset_index()\n",
    "avg_daily_return.columns = ['name', 'avg']\n",
    "\n",
    "std_daily_return = pd.DataFrame(std_daily_return).reset_index()\n",
    "std_daily_return.columns = ['-', 'std']\n",
    "\n",
    "avg_std_dr = pd.concat([avg_daily_return,std_daily_return], axis=1)\n",
    "avg_std_dr = avg_std_dr[['name','avg','std']]\n",
    "avg_std_dr.head()"
   ]
  },
  {
   "cell_type": "code",
   "execution_count": 20,
   "metadata": {
    "collapsed": false
   },
   "outputs": [
    {
     "data": {
      "text/html": [
       "<div>\n",
       "<style scoped>\n",
       "    .dataframe tbody tr th:only-of-type {\n",
       "        vertical-align: middle;\n",
       "    }\n",
       "\n",
       "    .dataframe tbody tr th {\n",
       "        vertical-align: top;\n",
       "    }\n",
       "\n",
       "    .dataframe thead th {\n",
       "        text-align: right;\n",
       "    }\n",
       "</style>\n",
       "<table border=\"1\" class=\"dataframe\">\n",
       "  <thead>\n",
       "    <tr style=\"text-align: right;\">\n",
       "      <th></th>\n",
       "      <th>name</th>\n",
       "      <th>avg</th>\n",
       "      <th>std</th>\n",
       "      <th>colors</th>\n",
       "    </tr>\n",
       "  </thead>\n",
       "  <tbody>\n",
       "    <tr>\n",
       "      <th>150</th>\n",
       "      <td>Bitcoin</td>\n",
       "      <td>0.008508</td>\n",
       "      <td>0.050284</td>\n",
       "      <td>orange</td>\n",
       "    </tr>\n",
       "    <tr>\n",
       "      <th>461</th>\n",
       "      <td>Ethereum</td>\n",
       "      <td>0.016086</td>\n",
       "      <td>0.073026</td>\n",
       "      <td>green</td>\n",
       "    </tr>\n",
       "    <tr>\n",
       "      <th>1031</th>\n",
       "      <td>Ripple</td>\n",
       "      <td>0.022783</td>\n",
       "      <td>0.143775</td>\n",
       "      <td>blue</td>\n",
       "    </tr>\n",
       "  </tbody>\n",
       "</table>\n",
       "</div>"
      ],
      "text/plain": [
       "          name       avg       std  colors\n",
       "150    Bitcoin  0.008508  0.050284  orange\n",
       "461   Ethereum  0.016086  0.073026   green\n",
       "1031    Ripple  0.022783  0.143775    blue"
      ]
     },
     "execution_count": 20,
     "metadata": {},
     "output_type": "execute_result"
    }
   ],
   "source": [
    "avg_std_BER = avg_std_dr.loc[(avg_std_dr.name == 'Bitcoin')|(avg_std_dr.name == 'Ethereum')|(avg_std_dr.name == 'Ripple')]\n",
    "avg_std_BER['colors'] = COLORS\n",
    "avg_std_BER.head()"
   ]
  },
  {
   "cell_type": "code",
   "execution_count": 30,
   "metadata": {
    "collapsed": false
   },
   "outputs": [],
   "source": [
    "# Let us make an interactive plot using Bokeh\n",
    "#output_notebook\n",
    "source = ColumnDataSource(avg_std_dr)\n",
    "p = figure(y_axis_label='Average daily return', x_axis_label='Std. dev. of daily returns', y_range=(-0.05,0.2), x_range=(0,1), title='avg/std relations for each cryptocurrency')\n",
    "p.circle(y='avg', x='std', source=source, size=5)\n",
    "\n",
    "source1 = ColumnDataSource(avg_std_BER)\n",
    "p.inverted_triangle(y='avg', x='std', source=source1, size=15, fill_color='colors', line_color='black')\n",
    "\n",
    "hover = HoverTool(tooltips=[('Currency','@name')])\n",
    "p.add_tools(hover)\n",
    "show(p)"
   ]
  },
  {
   "cell_type": "code",
   "execution_count": 22,
   "metadata": {
    "collapsed": false
   },
   "outputs": [
    {
     "name": "stdout",
     "output_type": "stream",
     "text": [
      "slope = 0.13692\n",
      "intercept = 0.00680\n"
     ]
    },
    {
     "data": {
      "image/png": "[encoded data removed]",
      "text/plain": [
       "<matplotlib.figure.Figure at 0x116fffeb8>"
      ]
     },
     "metadata": {},
     "output_type": "display_data"
    }
   ],
   "source": [
    "# Getting rid of some outliers\n",
    "avg_std_dr = avg_std_dr[avg_std_dr['avg']<0.5]\n",
    "avg_std_dr = avg_std_dr[avg_std_dr['std']<4]\n",
    "\n",
    "# How is the average related to the standard deviation?\n",
    "_ = plt.plot(avg_std_dr['std'], avg_std_dr['avg'], marker='.', linestyle='none')\n",
    "_ = plt.ylim(-0.05,0.4)\n",
    "_ = plt.xlim(0,2)\n",
    "_ = plt.ylabel('Average daily return')\n",
    "_ = plt.xlabel('Std. dev. of daily returns')\n",
    "_ = plt.title('Regression line')\n",
    "\n",
    "a, b = np.polyfit(avg_std_dr['std'], avg_std_dr['avg'],1)\n",
    "\n",
    "print('slope = %.5f'% a)\n",
    "print('intercept = %.5f'% b)\n",
    "\n",
    "x = np.array([-1,4])\n",
    "y = a * x + b\n",
    "\n",
    "_ = plt.plot(x,y)\n",
    "plt.show()"
   ]
  },
  {
   "cell_type": "code",
   "execution_count": 23,
   "metadata": {
    "collapsed": false
   },
   "outputs": [
    {
     "data": {
      "text/html": [
       "<div>\n",
       "<style scoped>\n",
       "    .dataframe tbody tr th:only-of-type {\n",
       "        vertical-align: middle;\n",
       "    }\n",
       "\n",
       "    .dataframe tbody tr th {\n",
       "        vertical-align: top;\n",
       "    }\n",
       "\n",
       "    .dataframe thead th {\n",
       "        text-align: right;\n",
       "    }\n",
       "</style>\n",
       "<table border=\"1\" class=\"dataframe\">\n",
       "  <thead>\n",
       "    <tr style=\"text-align: right;\">\n",
       "      <th></th>\n",
       "      <th>close</th>\n",
       "      <th>HL_PCT</th>\n",
       "      <th>CO_PCT</th>\n",
       "      <th>volume</th>\n",
       "      <th>label</th>\n",
       "    </tr>\n",
       "    <tr>\n",
       "      <th>date</th>\n",
       "      <th></th>\n",
       "      <th></th>\n",
       "      <th></th>\n",
       "      <th></th>\n",
       "      <th></th>\n",
       "    </tr>\n",
       "  </thead>\n",
       "  <tbody>\n",
       "    <tr>\n",
       "      <th>2018-01-06</th>\n",
       "      <td>17527.0</td>\n",
       "      <td>5.653580</td>\n",
       "      <td>0.371662</td>\n",
       "      <td>18314600000</td>\n",
       "      <td>NaN</td>\n",
       "    </tr>\n",
       "    <tr>\n",
       "      <th>2018-01-07</th>\n",
       "      <td>16477.6</td>\n",
       "      <td>9.273544</td>\n",
       "      <td>-5.988943</td>\n",
       "      <td>15866000000</td>\n",
       "      <td>NaN</td>\n",
       "    </tr>\n",
       "    <tr>\n",
       "      <th>2018-01-08</th>\n",
       "      <td>15170.1</td>\n",
       "      <td>16.396869</td>\n",
       "      <td>-7.927192</td>\n",
       "      <td>18413900000</td>\n",
       "      <td>NaN</td>\n",
       "    </tr>\n",
       "    <tr>\n",
       "      <th>2018-01-09</th>\n",
       "      <td>14595.4</td>\n",
       "      <td>7.442457</td>\n",
       "      <td>-3.493193</td>\n",
       "      <td>16660000000</td>\n",
       "      <td>NaN</td>\n",
       "    </tr>\n",
       "    <tr>\n",
       "      <th>2018-01-10</th>\n",
       "      <td>14973.3</td>\n",
       "      <td>9.364409</td>\n",
       "      <td>2.637694</td>\n",
       "      <td>18500800000</td>\n",
       "      <td>NaN</td>\n",
       "    </tr>\n",
       "  </tbody>\n",
       "</table>\n",
       "</div>"
      ],
      "text/plain": [
       "              close     HL_PCT    CO_PCT       volume  label\n",
       "date                                                        \n",
       "2018-01-06  17527.0   5.653580  0.371662  18314600000    NaN\n",
       "2018-01-07  16477.6   9.273544 -5.988943  15866000000    NaN\n",
       "2018-01-08  15170.1  16.396869 -7.927192  18413900000    NaN\n",
       "2018-01-09  14595.4   7.442457 -3.493193  16660000000    NaN\n",
       "2018-01-10  14973.3   9.364409  2.637694  18500800000    NaN"
      ]
     },
     "execution_count": 23,
     "metadata": {},
     "output_type": "execute_result"
    }
   ],
   "source": [
    "# Let us try to predict Bitcoin prices\n",
    "bit = df1[df1.symbol == 'BTC'].drop(['ranknow','close_ratio','slug','symbol','name'], axis=1)\n",
    "bit['HL_PCT'] = 100*(bit.high - bit.low) / bit.low\n",
    "bit['CO_PCT'] = 100*(bit.close - bit.open) / bit.open\n",
    "bit = bit.set_index('date')\n",
    "bit = bit[['close','HL_PCT','CO_PCT','volume']]\n",
    "\n",
    "# Chosing 20 days as number of forecast days\n",
    "forecast_out = int(20)\n",
    "bit['label'] = bit['close'].shift(-forecast_out)\n",
    "\n",
    "# We now have 20 days of missing labels \n",
    "bit.tail()"
   ]
  },
  {
   "cell_type": "code",
   "execution_count": 24,
   "metadata": {
    "collapsed": false
   },
   "outputs": [],
   "source": [
    "# We define a matrix of features\n",
    "X = np.array(bit.drop(['label'], 1))\n",
    "\n",
    "# Center to the mean and component wise scale to unit variance\n",
    "X = scale(X)\n",
    "\n",
    "# Split the rows for which we do not have label data\n",
    "X_forecast_out = X[-forecast_out:]\n",
    "X = X[:-forecast_out]\n",
    "\n",
    "# Define label vector\n",
    "y = np.array(bit['label'])\n",
    "y = y[:-forecast_out]\n",
    "\n",
    "# Check whether X and y are equal in lenght (if this is not the case we get an error)\n",
    "assert(len(X)==len(y))"
   ]
  },
  {
   "cell_type": "code",
   "execution_count": 25,
   "metadata": {
    "collapsed": false
   },
   "outputs": [
    {
     "name": "stdout",
     "output_type": "stream",
     "text": [
      "Accuracy of Linear Regression:  0.8280022675087291\n"
     ]
    }
   ],
   "source": [
    "# We split the data into training and test data\n",
    "# test_size = 0.2 ==> 20% data is test data\n",
    "X_train, X_test, y_train, y_test = train_test_split(X, y, test_size = 0.20)\n",
    "\n",
    "# We fit the model to the training data and test it on the test data\n",
    "clf = LinearRegression()\n",
    "clf.fit(X_train,y_train)\n",
    "\n",
    "accuracy = clf.score(X_test, y_test)\n",
    "print(\"Accuracy of Linear Regression: \", accuracy)"
   ]
  },
  {
   "cell_type": "markdown",
   "metadata": {},
   "source": [
    "The model did reasonably well in predicting the test data, let us now attempt to predict 30 days into the future  "
   ]
  },
  {
   "cell_type": "code",
   "execution_count": 113,
   "metadata": {
    "collapsed": false,
    "scrolled": false
   },
   "outputs": [
    {
     "name": "stdout",
     "output_type": "stream",
     "text": [
      "[ 9530.89891635 15305.13006879 15101.18992668 15474.99332167\n",
      " 17567.52210993 17378.92780518 15638.01943166 14900.60234153\n",
      " 12015.23086862 15053.1226527  15042.6178335  13707.26979803\n",
      " 13275.59358774 11072.88180844 13177.35316353 16061.06083437\n",
      " 16117.34312275 12908.67135648 12587.71679704 12179.04261833]\n"
     ]
    }
   ],
   "source": [
    "forecast_prediction = clf.predict(X_forecast_out)\n",
    "\n",
    "print(forecast_prediction)\n",
    "\n",
    "last_date = bit.iloc[-1].name\n",
    "\n",
    "forecast = pd.DataFrame(forecast_prediction)\n",
    "forecast['date'] = pd.date_range(last_date + timedelta(days=1) , periods=forecast_out, freq='D')\n",
    "forecast.set_index(['date'], inplace=True)\n",
    "\n",
    "forecast['BTC Prediction'] = forecast.loc[:,0]\n",
    "forecast = forecast[['BTC Prediction']]\n",
    "\n",
    "# Prevent the plot to have a discontinuity\n",
    "last_entry = pd.DataFrame(bit.close.iloc[-1], columns=['BTC Prediction'], index=[bit.iloc[-1].name])\n",
    "forecast = last_entry.append(forecast)"
   ]
  },
  {
   "cell_type": "code",
   "execution_count": 114,
   "metadata": {
    "collapsed": false
   },
   "outputs": [
    {
     "data": {
      "image/png": "[encoded data removed]",
      "text/plain": [
       "<matplotlib.figure.Figure at 0x118c64a20>"
      ]
     },
     "metadata": {},
     "output_type": "display_data"
    }
   ],
   "source": [
    "ax = bit['close'].plot(color=\"green\", label='BTC Price')\n",
    "forecast.plot(color=\"orange\", label='BTC Prediction', ax=ax)\n",
    "plt.legend()\n",
    "plt.xlabel('Date')\n",
    "plt.ylabel('Price')\n",
    "plt.title('Price Prediction of Bitcoin')\n",
    "plt.show()\n"
   ]
  },
  {
   "cell_type": "markdown",
   "metadata": {},
   "source": [
    "Note that this model does not know whether Bitcoin is a bubble, it therefore predicts the future only knowing the past prices and not knowing about anything else. The model will therefore predict the prices of Bitcoin to explode in the future as it did in the past, it is very likely that this is an unrealistic scenario. "
   ]
  },
  {
   "cell_type": "code",
   "execution_count": 115,
   "metadata": {
    "collapsed": false
   },
   "outputs": [
    {
     "name": "stdout",
     "output_type": "stream",
     "text": [
      "Accuracy of Linear Regression:  0.8635668927125218\n"
     ]
    },
    {
     "data": {
      "image/png": "[encoded data removed]",
      "text/plain": [
       "<matplotlib.figure.Figure at 0x11838af28>"
      ]
     },
     "metadata": {},
     "output_type": "display_data"
    }
   ],
   "source": [
    "# Let us define a function which outputs the graph shown above for a given number of future periods\n",
    "def plot_future(n, coin):\n",
    "    # Let us try to predict Bitcoin prices\n",
    "    bit = df1[df1.symbol == coin].drop(['ranknow','close_ratio','slug','symbol','name'], axis=1)\n",
    "    bit['HL_PCT'] = 100*(bit.high - bit.low) / bit.low\n",
    "    bit['CO_PCT'] = 100*(bit.close - bit.open) / bit.open\n",
    "    bit = bit.set_index('date')\n",
    "    bit = bit[['close','HL_PCT','CO_PCT','volume']]\n",
    "    \n",
    "    # Chosing n days as number of forecast days\n",
    "    forecast_out = int(n)\n",
    "    bit['label'] = bit['close'].shift(-forecast_out)\n",
    "    \n",
    "    # We now have n days of missing labels \n",
    "    # We define a matrix of features\n",
    "    X = np.array(bit.drop(['label'], 1))\n",
    "    \n",
    "    # Center to the mean and component wise scale to unit variance\n",
    "    X = scale(X)\n",
    "    \n",
    "    # Split the rows for which we do not have label data\n",
    "    X_forecast_out = X[-forecast_out:]\n",
    "    X = X[:-forecast_out]\n",
    "    \n",
    "    # Define label vector\n",
    "    y = np.array(bit['label'])\n",
    "    y = y[:-forecast_out]\n",
    "    \n",
    "    # Check whether X and y are equal in lenght (if this is not the case we get an error)\n",
    "    assert(len(X)==len(y))\n",
    "    \n",
    "    # We split the data into training and test data\n",
    "    # test_size = 0.2 ==> 20% data is test data\n",
    "    X_train, X_test, y_train, y_test = train_test_split(X, y, test_size = 0.20)\n",
    "    \n",
    "    # We fit the model to the training data and test it on the test data\n",
    "    clf = LinearRegression()\n",
    "    clf.fit(X_train,y_train)\n",
    "    \n",
    "    accuracy = clf.score(X_test, y_test)\n",
    "    print(\"Accuracy of Linear Regression: \", accuracy)\n",
    "    forecast_prediction = clf.predict(X_forecast_out)\n",
    "\n",
    "    last_date = bit.iloc[-1].name\n",
    "    \n",
    "    forecast = pd.DataFrame(forecast_prediction)\n",
    "    forecast['date'] = pd.date_range(last_date + timedelta(days=1) , periods=forecast_out, freq='D')\n",
    "    forecast.set_index(['date'], inplace=True)\n",
    "    \n",
    "    forecast['Prediction'] = forecast.loc[:,0]\n",
    "    forecast = forecast[['Prediction']]\n",
    "    \n",
    "    # Prevent the plot to have a discontinuity\n",
    "    last_entry = pd.DataFrame(bit.close.iloc[-1], columns=['Prediction'], index=[bit.iloc[-1].name])\n",
    "    forecast = last_entry.append(forecast)\n",
    "    \n",
    "    ax = bit['close'].plot(color=\"green\", label='Price')\n",
    "    forecast.plot(color=\"orange\", label='Prediction', ax=ax)\n",
    "    plt.legend()\n",
    "    plt.xlabel('Date')\n",
    "    plt.ylabel('Price')\n",
    "    plt.title('Price Prediction of '+coin)\n",
    "    plt.show()\n",
    "\n",
    "# Let us show what the model predicts 200 days into the future\n",
    "    \n",
    "plot_future(200, 'BTC')"
   ]
  },
  {
   "cell_type": "markdown",
   "metadata": {},
   "source": [
    "As can be seen above, the model predicts BTC prices to explode. Let us plot another currency."
   ]
  },
  {
   "cell_type": "code",
   "execution_count": 130,
   "metadata": {
    "collapsed": false
   },
   "outputs": [
    {
     "name": "stdout",
     "output_type": "stream",
     "text": [
      "Accuracy of Linear Regression:  0.019419242446489737\n"
     ]
    },
    {
     "data": {
      "image/png": "[encoded data removed]",
      "text/plain": [
       "<matplotlib.figure.Figure at 0x119a64f98>"
      ]
     },
     "metadata": {},
     "output_type": "display_data"
    }
   ],
   "source": [
    "plot_future(25,'RPX')"
   ]
  },
  {
   "cell_type": "markdown",
   "metadata": {},
   "source": [
    "Ripple seems to crash at the end of January... (Pretty inaccurate though)"
   ]
  },
  {
   "cell_type": "code",
   "execution_count": null,
   "metadata": {
    "collapsed": true
   },
   "outputs": [],
   "source": []
  }
 ],
 "metadata": {
  "kernelspec": {
   "display_name": "Python 3",
   "language": "python",
   "name": "python3"
  },
  "language_info": {
   "codemirror_mode": {
    "name": "ipython",
    "version": 3
   },
   "file_extension": ".py",
   "mimetype": "text/x-python",
   "name": "python",
   "nbconvert_exporter": "python",
   "pygments_lexer": "ipython3",
   "version": "3.6.4"
  }
 },
 "nbformat": 4,
 "nbformat_minor": 2
}
